{
 "cells": [
  {
   "cell_type": "markdown",
   "metadata": {
    "vscode": {
     "languageId": "raw"
    }
   },
   "source": [
    "# AWS S3 Learning Notebook\n",
    "\n",
    "## Prerequisites\n",
    "\n",
    "**Before running this notebook, make sure you're authenticated with AWS SSO:**\n",
    "\n",
    "```bash\n",
    "aws sso login --profile cloud-course\n",
    "```\n",
    "\n",
    "This command needs to be run in your terminal (not in this notebook) and will:\n",
    "- Open a browser window for authentication\n",
    "- Refresh your AWS credentials\n",
    "- Allow this notebook to interact with AWS services\n",
    "\n",
    "⚠️ **Note**: If you get a `TokenRetrievalError`, it means your AWS SSO session has expired. Simply run the login command above again.\n"
   ]
  },
  {
   "cell_type": "code",
   "execution_count": 4,
   "metadata": {},
   "outputs": [],
   "source": [
    "import boto3\n",
    "from botocore.exceptions import ClientError, TokenRetrievalError\n",
    "from uuid import uuid4\n",
    "from  rich import print\n",
    "import os\n",
    "from typing import Optional\n",
    "\n",
    "try:\n",
    "    from mypy_boto3_s3 import S3Client\n",
    "except ImportError:\n",
    "    print(\"mypy_boto3_s3 is not installed. Please install it using 'pip install mypy-boto3-s3'\")"
   ]
  },
  {
   "cell_type": "code",
   "execution_count": 5,
   "metadata": {},
   "outputs": [
    {
     "data": {
      "text/html": [
       "<pre style=\"white-space:pre;overflow-x:auto;line-height:normal;font-family:Menlo,'DejaVu Sans Mono',consolas,'Courier New',monospace\"><span style=\"color: #808000; text-decoration-color: #808000\">BUCKET_NAME</span>=<span style=\"color: #008000; text-decoration-color: #008000\">'cloud-course-bucket-20a2'</span>\n",
       "</pre>\n"
      ],
      "text/plain": [
       "\u001b[33mBUCKET_NAME\u001b[0m=\u001b[32m'cloud-course-bucket-20a2'\u001b[0m\n"
      ]
     },
     "metadata": {},
     "output_type": "display_data"
    },
    {
     "data": {
      "text/html": [
       "<pre style=\"white-space:pre;overflow-x:auto;line-height:normal;font-family:Menlo,'DejaVu Sans Mono',consolas,'Courier New',monospace\"><span style=\"color: #808000; text-decoration-color: #808000\">EXAMPLE_OBJECT_KEY</span>=<span style=\"color: #008000; text-decoration-color: #008000\">'folder/file.txt'</span>\n",
       "</pre>\n"
      ],
      "text/plain": [
       "\u001b[33mEXAMPLE_OBJECT_KEY\u001b[0m=\u001b[32m'folder/file.txt'\u001b[0m\n"
      ]
     },
     "metadata": {},
     "output_type": "display_data"
    },
    {
     "data": {
      "text/html": [
       "<pre style=\"white-space:pre;overflow-x:auto;line-height:normal;font-family:Menlo,'DejaVu Sans Mono',consolas,'Courier New',monospace\"><span style=\"color: #808000; text-decoration-color: #808000\">EXAMPLE_OBJECT_CONTENT</span>=<span style=\"color: #008000; text-decoration-color: #008000\">'This is a test file!'</span>\n",
       "</pre>\n"
      ],
      "text/plain": [
       "\u001b[33mEXAMPLE_OBJECT_CONTENT\u001b[0m=\u001b[32m'This is a test file!'\u001b[0m\n"
      ]
     },
     "metadata": {},
     "output_type": "display_data"
    },
    {
     "data": {
      "text/html": [
       "<pre style=\"white-space:pre;overflow-x:auto;line-height:normal;font-family:Menlo,'DejaVu Sans Mono',consolas,'Courier New',monospace\"><span style=\"color: #808000; text-decoration-color: #808000\">EXAMPLE_OBJECTS</span>=<span style=\"font-weight: bold\">[{</span><span style=\"color: #008000; text-decoration-color: #008000\">'example-a/object/file1.txt'</span>: <span style=\"color: #008000; text-decoration-color: #008000\">'This is a test object.'</span><span style=\"font-weight: bold\">}</span>, <span style=\"font-weight: bold\">{</span><span style=\"color: #008000; text-decoration-color: #008000\">'example-b/object/file2.txt'</span>: <span style=\"color: #008000; text-decoration-color: #008000\">'This is </span>\n",
       "<span style=\"color: #008000; text-decoration-color: #008000\">another test object.'</span><span style=\"font-weight: bold\">}</span>, <span style=\"font-weight: bold\">{</span><span style=\"color: #008000; text-decoration-color: #008000\">'example-c/object/file3.txt'</span>: <span style=\"color: #008000; text-decoration-color: #008000\">'This is a third test object.'</span><span style=\"font-weight: bold\">}</span>, \n",
       "<span style=\"font-weight: bold\">{</span><span style=\"color: #008000; text-decoration-color: #008000\">'example-d/object/file4.txt'</span>: <span style=\"color: #008000; text-decoration-color: #008000\">'This is a fourth test object.'</span><span style=\"font-weight: bold\">}</span>, <span style=\"font-weight: bold\">{</span><span style=\"color: #008000; text-decoration-color: #008000\">'example-e/object/file5.txt'</span>: <span style=\"color: #008000; text-decoration-color: #008000\">'This is a fifth </span>\n",
       "<span style=\"color: #008000; text-decoration-color: #008000\">test object.'</span><span style=\"font-weight: bold\">}]</span>\n",
       "</pre>\n"
      ],
      "text/plain": [
       "\u001b[33mEXAMPLE_OBJECTS\u001b[0m=\u001b[1m[\u001b[0m\u001b[1m{\u001b[0m\u001b[32m'example-a/object/file1.txt'\u001b[0m: \u001b[32m'This is a test object.'\u001b[0m\u001b[1m}\u001b[0m, \u001b[1m{\u001b[0m\u001b[32m'example-b/object/file2.txt'\u001b[0m: \u001b[32m'This is \u001b[0m\n",
       "\u001b[32manother test object.'\u001b[0m\u001b[1m}\u001b[0m, \u001b[1m{\u001b[0m\u001b[32m'example-c/object/file3.txt'\u001b[0m: \u001b[32m'This is a third test object.'\u001b[0m\u001b[1m}\u001b[0m, \n",
       "\u001b[1m{\u001b[0m\u001b[32m'example-d/object/file4.txt'\u001b[0m: \u001b[32m'This is a fourth test object.'\u001b[0m\u001b[1m}\u001b[0m, \u001b[1m{\u001b[0m\u001b[32m'example-e/object/file5.txt'\u001b[0m: \u001b[32m'This is a fifth \u001b[0m\n",
       "\u001b[32mtest object.'\u001b[0m\u001b[1m}\u001b[0m\u001b[1m]\u001b[0m\n"
      ]
     },
     "metadata": {},
     "output_type": "display_data"
    }
   ],
   "source": [
    "# Constants\n",
    "\n",
    "os.environ[\"AWS_PROFILE\"] = \"cloud-course\"\n",
    "os.environ[\"AWS_REGION\"] = \"us-east-1\"\n",
    "\n",
    "# crearet a session\n",
    "S3_CLIENT: S3Client = boto3.client(\"s3\")\n",
    "\n",
    "# create a bucket\n",
    "BUCKET_NAME = f\"cloud-course-bucket-{str(uuid4())[:4]}\"\n",
    "\n",
    "EXAMPLE_OBJECT_KEY = \"folder/file.txt\"\n",
    "EXAMPLE_OBJECT_CONTENT = \"This is a test file!\"\n",
    "\n",
    "EXAMPLE_OBJECTS = [\n",
    "    {\"example-a/object/file1.txt\": \"This is a test object.\"},\n",
    "    {\"example-b/object/file2.txt\": \"This is another test object.\"},\n",
    "    {\"example-c/object/file3.txt\": \"This is a third test object.\"},\n",
    "    {\"example-d/object/file4.txt\": \"This is a fourth test object.\"},\n",
    "    {\"example-e/object/file5.txt\": \"This is a fifth test object.\"},\n",
    "]\n",
    "\n",
    "print(f\"{BUCKET_NAME=}\")\n",
    "print(f\"{EXAMPLE_OBJECT_KEY=}\")\n",
    "print(f\"{EXAMPLE_OBJECT_CONTENT=}\")\n",
    "print(f\"{EXAMPLE_OBJECTS=}\")\n"
   ]
  },
  {
   "cell_type": "code",
   "execution_count": 6,
   "metadata": {},
   "outputs": [
    {
     "data": {
      "text/html": [
       "<pre style=\"white-space:pre;overflow-x:auto;line-height:normal;font-family:Menlo,'DejaVu Sans Mono',consolas,'Courier New',monospace\">✅ Bucket cloud-course-bucket-20a2 created successfully\n",
       "</pre>\n"
      ],
      "text/plain": [
       "✅ Bucket cloud-course-bucket-20a2 created successfully\n"
      ]
     },
     "metadata": {},
     "output_type": "display_data"
    },
    {
     "data": {
      "text/html": [
       "<pre style=\"white-space:pre;overflow-x:auto;line-height:normal;font-family:Menlo,'DejaVu Sans Mono',consolas,'Courier New',monospace\"><span style=\"color: #808000; text-decoration-color: #808000\">response</span>=<span style=\"font-weight: bold\">{</span><span style=\"color: #008000; text-decoration-color: #008000\">'ResponseMetadata'</span>: <span style=\"font-weight: bold\">{</span><span style=\"color: #008000; text-decoration-color: #008000\">'RequestId'</span>: <span style=\"color: #008000; text-decoration-color: #008000\">'A89Z1JWPMQQPTKZA'</span>, <span style=\"color: #008000; text-decoration-color: #008000\">'HostId'</span>: \n",
       "<span style=\"color: #008000; text-decoration-color: #008000\">'sxhBQKBp3SLFztyQ7uheU3uzwaRCxsY7CuNGBTkhLcNESbarsKqrrBtS5SMbhczlNPjWuSX69++04SqiW15c8sixruq5l66xX4BFc/SRd/A='</span>, \n",
       "<span style=\"color: #008000; text-decoration-color: #008000\">'HTTPStatusCode'</span>: <span style=\"color: #008080; text-decoration-color: #008080; font-weight: bold\">200</span>, <span style=\"color: #008000; text-decoration-color: #008000\">'HTTPHeaders'</span>: <span style=\"font-weight: bold\">{</span><span style=\"color: #008000; text-decoration-color: #008000\">'x-amz-id-2'</span>: \n",
       "<span style=\"color: #008000; text-decoration-color: #008000\">'sxhBQKBp3SLFztyQ7uheU3uzwaRCxsY7CuNGBTkhLcNESbarsKqrrBtS5SMbhczlNPjWuSX69++04SqiW15c8sixruq5l66xX4BFc/SRd/A='</span>, \n",
       "<span style=\"color: #008000; text-decoration-color: #008000\">'x-amz-request-id'</span>: <span style=\"color: #008000; text-decoration-color: #008000\">'A89Z1JWPMQQPTKZA'</span>, <span style=\"color: #008000; text-decoration-color: #008000\">'date'</span>: <span style=\"color: #008000; text-decoration-color: #008000\">'Fri, 20 Jun 2025 01:40:52 GMT'</span>, <span style=\"color: #008000; text-decoration-color: #008000\">'location'</span>: \n",
       "<span style=\"color: #008000; text-decoration-color: #008000\">'/cloud-course-bucket-20a2'</span>, <span style=\"color: #008000; text-decoration-color: #008000\">'content-length'</span>: <span style=\"color: #008000; text-decoration-color: #008000\">'0'</span>, <span style=\"color: #008000; text-decoration-color: #008000\">'server'</span>: <span style=\"color: #008000; text-decoration-color: #008000\">'AmazonS3'</span><span style=\"font-weight: bold\">}</span>, <span style=\"color: #008000; text-decoration-color: #008000\">'RetryAttempts'</span>: <span style=\"color: #008080; text-decoration-color: #008080; font-weight: bold\">0</span><span style=\"font-weight: bold\">}</span>, <span style=\"color: #008000; text-decoration-color: #008000\">'Location'</span>: \n",
       "<span style=\"color: #008000; text-decoration-color: #008000\">'/cloud-course-bucket-20a2'</span><span style=\"font-weight: bold\">}</span>\n",
       "</pre>\n"
      ],
      "text/plain": [
       "\u001b[33mresponse\u001b[0m=\u001b[1m{\u001b[0m\u001b[32m'ResponseMetadata'\u001b[0m: \u001b[1m{\u001b[0m\u001b[32m'RequestId'\u001b[0m: \u001b[32m'A89Z1JWPMQQPTKZA'\u001b[0m, \u001b[32m'HostId'\u001b[0m: \n",
       "\u001b[32m'sxhBQKBp3SLFztyQ7uheU3uzwaRCxsY7CuNGBTkhLcNESbarsKqrrBtS5SMbhczlNPjWuSX69++04SqiW15c8sixruq5l66xX4BFc/SRd/\u001b[0m\u001b[32mA\u001b[0m\u001b[32m='\u001b[0m, \n",
       "\u001b[32m'HTTPStatusCode'\u001b[0m: \u001b[1;36m200\u001b[0m, \u001b[32m'HTTPHeaders'\u001b[0m: \u001b[1m{\u001b[0m\u001b[32m'x-amz-id-2'\u001b[0m: \n",
       "\u001b[32m'sxhBQKBp3SLFztyQ7uheU3uzwaRCxsY7CuNGBTkhLcNESbarsKqrrBtS5SMbhczlNPjWuSX69++04SqiW15c8sixruq5l66xX4BFc/SRd/\u001b[0m\u001b[32mA\u001b[0m\u001b[32m='\u001b[0m, \n",
       "\u001b[32m'x-amz-request-id'\u001b[0m: \u001b[32m'A89Z1JWPMQQPTKZA'\u001b[0m, \u001b[32m'date'\u001b[0m: \u001b[32m'Fri, 20 Jun 2025 01:40:52 GMT'\u001b[0m, \u001b[32m'location'\u001b[0m: \n",
       "\u001b[32m'/cloud-course-bucket-20a2'\u001b[0m, \u001b[32m'content-length'\u001b[0m: \u001b[32m'0'\u001b[0m, \u001b[32m'server'\u001b[0m: \u001b[32m'AmazonS3'\u001b[0m\u001b[1m}\u001b[0m, \u001b[32m'RetryAttempts'\u001b[0m: \u001b[1;36m0\u001b[0m\u001b[1m}\u001b[0m, \u001b[32m'Location'\u001b[0m: \n",
       "\u001b[32m'/cloud-course-bucket-20a2'\u001b[0m\u001b[1m}\u001b[0m\n"
      ]
     },
     "metadata": {},
     "output_type": "display_data"
    }
   ],
   "source": [
    "# Create a bucket\n",
    "\n",
    "try:\n",
    "    from mypy_boto3_s3.type_defs import CreateBucketOutputTypeDef\n",
    "except ImportError:\n",
    "    print(\"mypy-boto3-s3 is not installed, skipping type checking\")\n",
    "\n",
    "\n",
    "def create_bucket(bucket_name: str) -> Optional[\"CreateBucketOutputTypeDef\"]:\n",
    "    \"\"\"\n",
    "    Create a bucket\n",
    "    \n",
    "    Args:\n",
    "        bucket_name: The name of the bucket to create\n",
    "\n",
    "    Returns:\n",
    "        The output of the create_bucket operation\n",
    "    \"\"\"\n",
    "    try:\n",
    "        return S3_CLIENT.create_bucket(Bucket=bucket_name)\n",
    "    except TokenRetrievalError:\n",
    "        print(\"❌ AWS SSO token has expired!\")\n",
    "        print(\"🔧 Please run this command in your terminal:\")\n",
    "        print(\"   aws sso login --profile <profile_name>\")\n",
    "        print(\"📝 Then restart this notebook and try again.\")\n",
    "        raise\n",
    "    except ClientError as e:\n",
    "        error_code = e.response.get(\"Error\", {}).get(\"Code\")\n",
    "        if error_code == 'BucketAlreadyOwnedByYou':\n",
    "            print(f\"✅ Bucket {bucket_name} already exists and is owned by you\")\n",
    "            return None\n",
    "        elif error_code == 'BucketAlreadyExists':\n",
    "            print(f\"❌ Bucket {bucket_name} already exists and is owned by someone else\")\n",
    "            raise\n",
    "        else:\n",
    "            print(f\"❌ Error creating bucket: {e}\")\n",
    "            raise\n",
    "\n",
    "\n",
    "response = create_bucket(bucket_name=BUCKET_NAME)\n",
    "if response:\n",
    "    print(f\"✅ Bucket {BUCKET_NAME} created successfully\")\n",
    "    print(f\"{response=}\")\n",
    "else:\n",
    "    print(f\"ℹ️  Using existing bucket {BUCKET_NAME}\")\n"
   ]
  },
  {
   "cell_type": "code",
   "execution_count": 7,
   "metadata": {},
   "outputs": [
    {
     "data": {
      "text/html": [
       "<pre style=\"white-space:pre;overflow-x:auto;line-height:normal;font-family:Menlo,'DejaVu Sans Mono',consolas,'Courier New',monospace\">✅ Object written to path <span style=\"color: #008000; text-decoration-color: #008000\">'s3://cloud-course-bucket-20a2/folder/file.txt'</span>\n",
       "</pre>\n"
      ],
      "text/plain": [
       "✅ Object written to path \u001b[32m's3://cloud-course-bucket-20a2/folder/file.txt'\u001b[0m\n"
      ]
     },
     "metadata": {},
     "output_type": "display_data"
    },
    {
     "data": {
      "text/html": [
       "<pre style=\"white-space:pre;overflow-x:auto;line-height:normal;font-family:Menlo,'DejaVu Sans Mono',consolas,'Courier New',monospace\"><span style=\"color: #808000; text-decoration-color: #808000\">response</span>=<span style=\"font-weight: bold\">{</span><span style=\"color: #008000; text-decoration-color: #008000\">'ResponseMetadata'</span>: <span style=\"font-weight: bold\">{</span><span style=\"color: #008000; text-decoration-color: #008000\">'RequestId'</span>: <span style=\"color: #008000; text-decoration-color: #008000\">'A89PPV2MDKWK7RS3'</span>, <span style=\"color: #008000; text-decoration-color: #008000\">'HostId'</span>: \n",
       "<span style=\"color: #008000; text-decoration-color: #008000\">'2Bq6RI+14lp9SNpYdzI5/29RUHtdMid2nhIMDk3POTEofd4/HA8W/7qhINv3Dv1m6GUYL9NM19/ssgcb0PtgJO9s4nH8P527G43lKZ7vQog='</span>, \n",
       "<span style=\"color: #008000; text-decoration-color: #008000\">'HTTPStatusCode'</span>: <span style=\"color: #008080; text-decoration-color: #008080; font-weight: bold\">200</span>, <span style=\"color: #008000; text-decoration-color: #008000\">'HTTPHeaders'</span>: <span style=\"font-weight: bold\">{</span><span style=\"color: #008000; text-decoration-color: #008000\">'x-amz-id-2'</span>: \n",
       "<span style=\"color: #008000; text-decoration-color: #008000\">'2Bq6RI+14lp9SNpYdzI5/29RUHtdMid2nhIMDk3POTEofd4/HA8W/7qhINv3Dv1m6GUYL9NM19/ssgcb0PtgJO9s4nH8P527G43lKZ7vQog='</span>, \n",
       "<span style=\"color: #008000; text-decoration-color: #008000\">'x-amz-request-id'</span>: <span style=\"color: #008000; text-decoration-color: #008000\">'A89PPV2MDKWK7RS3'</span>, <span style=\"color: #008000; text-decoration-color: #008000\">'date'</span>: <span style=\"color: #008000; text-decoration-color: #008000\">'Fri, 20 Jun 2025 01:40:52 GMT'</span>, <span style=\"color: #008000; text-decoration-color: #008000\">'x-amz-server-side-encryption'</span>: \n",
       "<span style=\"color: #008000; text-decoration-color: #008000\">'AES256'</span>, <span style=\"color: #008000; text-decoration-color: #008000\">'etag'</span>: <span style=\"color: #008000; text-decoration-color: #008000\">'\"07aa24d4ee5d5d29fbaf360896713947\"'</span>, <span style=\"color: #008000; text-decoration-color: #008000\">'x-amz-checksum-crc32'</span>: <span style=\"color: #008000; text-decoration-color: #008000\">'fNXj1g=='</span>, <span style=\"color: #008000; text-decoration-color: #008000\">'x-amz-checksum-type'</span>: \n",
       "<span style=\"color: #008000; text-decoration-color: #008000\">'FULL_OBJECT'</span>, <span style=\"color: #008000; text-decoration-color: #008000\">'content-length'</span>: <span style=\"color: #008000; text-decoration-color: #008000\">'0'</span>, <span style=\"color: #008000; text-decoration-color: #008000\">'server'</span>: <span style=\"color: #008000; text-decoration-color: #008000\">'AmazonS3'</span><span style=\"font-weight: bold\">}</span>, <span style=\"color: #008000; text-decoration-color: #008000\">'RetryAttempts'</span>: <span style=\"color: #008080; text-decoration-color: #008080; font-weight: bold\">0</span><span style=\"font-weight: bold\">}</span>, <span style=\"color: #008000; text-decoration-color: #008000\">'ETag'</span>: \n",
       "<span style=\"color: #008000; text-decoration-color: #008000\">'\"07aa24d4ee5d5d29fbaf360896713947\"'</span>, <span style=\"color: #008000; text-decoration-color: #008000\">'ChecksumCRC32'</span>: <span style=\"color: #008000; text-decoration-color: #008000\">'fNXj1g=='</span>, <span style=\"color: #008000; text-decoration-color: #008000\">'ChecksumType'</span>: <span style=\"color: #008000; text-decoration-color: #008000\">'FULL_OBJECT'</span>, \n",
       "<span style=\"color: #008000; text-decoration-color: #008000\">'ServerSideEncryption'</span>: <span style=\"color: #008000; text-decoration-color: #008000\">'AES256'</span><span style=\"font-weight: bold\">}</span>\n",
       "</pre>\n"
      ],
      "text/plain": [
       "\u001b[33mresponse\u001b[0m=\u001b[1m{\u001b[0m\u001b[32m'ResponseMetadata'\u001b[0m: \u001b[1m{\u001b[0m\u001b[32m'RequestId'\u001b[0m: \u001b[32m'A89PPV2MDKWK7RS3'\u001b[0m, \u001b[32m'HostId'\u001b[0m: \n",
       "\u001b[32m'2Bq6RI+14lp9SNpYdzI5/29RUHtdMid2nhIMDk3POTEofd4/HA8W/7qhINv3Dv1m6GUYL9NM19/\u001b[0m\u001b[32mssgcb0PtgJO9s4nH8P527G43lKZ7vQog\u001b[0m\u001b[32m='\u001b[0m, \n",
       "\u001b[32m'HTTPStatusCode'\u001b[0m: \u001b[1;36m200\u001b[0m, \u001b[32m'HTTPHeaders'\u001b[0m: \u001b[1m{\u001b[0m\u001b[32m'x-amz-id-2'\u001b[0m: \n",
       "\u001b[32m'2Bq6RI+14lp9SNpYdzI5/29RUHtdMid2nhIMDk3POTEofd4/HA8W/7qhINv3Dv1m6GUYL9NM19/\u001b[0m\u001b[32mssgcb0PtgJO9s4nH8P527G43lKZ7vQog\u001b[0m\u001b[32m='\u001b[0m, \n",
       "\u001b[32m'x-amz-request-id'\u001b[0m: \u001b[32m'A89PPV2MDKWK7RS3'\u001b[0m, \u001b[32m'date'\u001b[0m: \u001b[32m'Fri, 20 Jun 2025 01:40:52 GMT'\u001b[0m, \u001b[32m'x-amz-server-side-encryption'\u001b[0m: \n",
       "\u001b[32m'AES256'\u001b[0m, \u001b[32m'etag'\u001b[0m: \u001b[32m'\"07aa24d4ee5d5d29fbaf360896713947\"'\u001b[0m, \u001b[32m'x-amz-checksum-crc32'\u001b[0m: \u001b[32m'\u001b[0m\u001b[32mfNXj1g\u001b[0m\u001b[32m=='\u001b[0m, \u001b[32m'x-amz-checksum-type'\u001b[0m: \n",
       "\u001b[32m'FULL_OBJECT'\u001b[0m, \u001b[32m'content-length'\u001b[0m: \u001b[32m'0'\u001b[0m, \u001b[32m'server'\u001b[0m: \u001b[32m'AmazonS3'\u001b[0m\u001b[1m}\u001b[0m, \u001b[32m'RetryAttempts'\u001b[0m: \u001b[1;36m0\u001b[0m\u001b[1m}\u001b[0m, \u001b[32m'ETag'\u001b[0m: \n",
       "\u001b[32m'\"07aa24d4ee5d5d29fbaf360896713947\"'\u001b[0m, \u001b[32m'ChecksumCRC32'\u001b[0m: \u001b[32m'\u001b[0m\u001b[32mfNXj1g\u001b[0m\u001b[32m=='\u001b[0m, \u001b[32m'ChecksumType'\u001b[0m: \u001b[32m'FULL_OBJECT'\u001b[0m, \n",
       "\u001b[32m'ServerSideEncryption'\u001b[0m: \u001b[32m'AES256'\u001b[0m\u001b[1m}\u001b[0m\n"
      ]
     },
     "metadata": {},
     "output_type": "display_data"
    }
   ],
   "source": [
    "# write an object to the bucket\n",
    "try:\n",
    "    from mypy_boto3_s3.type_defs import PutObjectOutputTypeDef\n",
    "except ImportError:\n",
    "    print(\"mypy-boto3-s3 is not installed, skipping type checking\")\n",
    "\n",
    "\n",
    "def write_text_object_to_bucket(\n",
    "    bucket_name: str, \n",
    "    object_key: str, \n",
    "    object_content: str) -> Optional[\"PutObjectOutputTypeDef\"]:\n",
    "    \"\"\"\n",
    "    Write a text object to the bucket\n",
    "    \"\"\"\n",
    "    try:\n",
    "        return S3_CLIENT.put_object(Bucket=bucket_name, Key=object_key, Body=object_content)\n",
    "    except ClientError as e:\n",
    "        error_code = e.response.get(\"Error\", {}).get(\"Code\")\n",
    "        raise Exception(f\"❌ Error writing object to bucket: {error_code}\")\n",
    "\n",
    "\n",
    "# write a single example object to the bucket\n",
    "response = write_text_object_to_bucket(\n",
    "    bucket_name=BUCKET_NAME, \n",
    "    object_key=EXAMPLE_OBJECT_KEY, \n",
    "    object_content=EXAMPLE_OBJECT_CONTENT)\n",
    "\n",
    "print(f\"✅ Object written to path 's3://{BUCKET_NAME}/{EXAMPLE_OBJECT_KEY}'\")\n",
    "print(f\"{response=}\")\n"
   ]
  },
  {
   "cell_type": "code",
   "execution_count": 8,
   "metadata": {},
   "outputs": [
    {
     "data": {
      "text/html": [
       "<pre style=\"white-space:pre;overflow-x:auto;line-height:normal;font-family:Menlo,'DejaVu Sans Mono',consolas,'Courier New',monospace\">Writing object to path <span style=\"color: #008000; text-decoration-color: #008000\">'s3://cloud-course-bucket-20a2/example-a/object/file1.txt'</span>\n",
       "</pre>\n"
      ],
      "text/plain": [
       "Writing object to path \u001b[32m's3://cloud-course-bucket-20a2/example-a/object/file1.txt'\u001b[0m\n"
      ]
     },
     "metadata": {},
     "output_type": "display_data"
    },
    {
     "data": {
      "text/html": [
       "<pre style=\"white-space:pre;overflow-x:auto;line-height:normal;font-family:Menlo,'DejaVu Sans Mono',consolas,'Courier New',monospace\">Writing object to path <span style=\"color: #008000; text-decoration-color: #008000\">'s3://cloud-course-bucket-20a2/example-b/object/file2.txt'</span>\n",
       "</pre>\n"
      ],
      "text/plain": [
       "Writing object to path \u001b[32m's3://cloud-course-bucket-20a2/example-b/object/file2.txt'\u001b[0m\n"
      ]
     },
     "metadata": {},
     "output_type": "display_data"
    },
    {
     "data": {
      "text/html": [
       "<pre style=\"white-space:pre;overflow-x:auto;line-height:normal;font-family:Menlo,'DejaVu Sans Mono',consolas,'Courier New',monospace\">Writing object to path <span style=\"color: #008000; text-decoration-color: #008000\">'s3://cloud-course-bucket-20a2/example-c/object/file3.txt'</span>\n",
       "</pre>\n"
      ],
      "text/plain": [
       "Writing object to path \u001b[32m's3://cloud-course-bucket-20a2/example-c/object/file3.txt'\u001b[0m\n"
      ]
     },
     "metadata": {},
     "output_type": "display_data"
    },
    {
     "data": {
      "text/html": [
       "<pre style=\"white-space:pre;overflow-x:auto;line-height:normal;font-family:Menlo,'DejaVu Sans Mono',consolas,'Courier New',monospace\">Writing object to path <span style=\"color: #008000; text-decoration-color: #008000\">'s3://cloud-course-bucket-20a2/example-d/object/file4.txt'</span>\n",
       "</pre>\n"
      ],
      "text/plain": [
       "Writing object to path \u001b[32m's3://cloud-course-bucket-20a2/example-d/object/file4.txt'\u001b[0m\n"
      ]
     },
     "metadata": {},
     "output_type": "display_data"
    },
    {
     "data": {
      "text/html": [
       "<pre style=\"white-space:pre;overflow-x:auto;line-height:normal;font-family:Menlo,'DejaVu Sans Mono',consolas,'Courier New',monospace\">Writing object to path <span style=\"color: #008000; text-decoration-color: #008000\">'s3://cloud-course-bucket-20a2/example-e/object/file5.txt'</span>\n",
       "</pre>\n"
      ],
      "text/plain": [
       "Writing object to path \u001b[32m's3://cloud-course-bucket-20a2/example-e/object/file5.txt'\u001b[0m\n"
      ]
     },
     "metadata": {},
     "output_type": "display_data"
    }
   ],
   "source": [
    "# write multiple example objects to the bucket\n",
    "for example_object in EXAMPLE_OBJECTS:\n",
    "    for object_key, object_content in example_object.items():\n",
    "        print(f\"Writing object to path 's3://{BUCKET_NAME}/{object_key}'\")\n",
    "        write_text_object_to_bucket(\n",
    "            bucket_name=BUCKET_NAME, \n",
    "            object_key=object_key, \n",
    "            object_content=object_content\n",
    "            )"
   ]
  },
  {
   "cell_type": "code",
   "execution_count": 9,
   "metadata": {},
   "outputs": [],
   "source": [
    "# read object from s3\n",
    "from botocore.response import StreamingBody\n",
    "\n",
    "def read_text_object_from_bucket(\n",
    "    bucket_name: str, \n",
    "    object_key: str) -> str | None:\n",
    "    \"\"\"\n",
    "    Read a text object from the bucket\n",
    "    \"\"\"\n",
    "    try:\n",
    "        response = S3_CLIENT.get_object(Bucket=bucket_name, Key=object_key)\n",
    "        content_streaming_body: StreamingBody = response[\"Body\"]\n",
    "        content:str = content_streaming_body.read().decode(\"utf-8\")\n",
    "        return content\n",
    "    except ClientError as e:\n",
    "        raise Exception(f\"❌ Error reading object from bucket: {e}\")"
   ]
  },
  {
   "cell_type": "code",
   "execution_count": 10,
   "metadata": {},
   "outputs": [
    {
     "data": {
      "text/html": [
       "<pre style=\"white-space:pre;overflow-x:auto;line-height:normal;font-family:Menlo,'DejaVu Sans Mono',consolas,'Courier New',monospace\">✅ Object read from path <span style=\"color: #008000; text-decoration-color: #008000\">'s3://cloud-course-bucket-20a2/folder/file.txt'</span>\n",
       "</pre>\n"
      ],
      "text/plain": [
       "✅ Object read from path \u001b[32m's3://cloud-course-bucket-20a2/folder/file.txt'\u001b[0m\n"
      ]
     },
     "metadata": {},
     "output_type": "display_data"
    },
    {
     "data": {
      "text/html": [
       "<pre style=\"white-space:pre;overflow-x:auto;line-height:normal;font-family:Menlo,'DejaVu Sans Mono',consolas,'Courier New',monospace\"><span style=\"color: #808000; text-decoration-color: #808000\">content</span>=<span style=\"color: #008000; text-decoration-color: #008000\">'This is a test file!'</span>\n",
       "</pre>\n"
      ],
      "text/plain": [
       "\u001b[33mcontent\u001b[0m=\u001b[32m'This is a test file!'\u001b[0m\n"
      ]
     },
     "metadata": {},
     "output_type": "display_data"
    }
   ],
   "source": [
    "# read a single example object from the bucket\n",
    "content = read_text_object_from_bucket(\n",
    "    bucket_name=BUCKET_NAME, \n",
    "    object_key=EXAMPLE_OBJECT_KEY\n",
    "    )\n",
    "\n",
    "if content:\n",
    "    print(f\"✅ Object read from path 's3://{BUCKET_NAME}/{EXAMPLE_OBJECT_KEY}'\")\n",
    "    print(f\"{content=}\")\n",
    "else:\n",
    "    print(f\"❌ Object not found in path 's3://{BUCKET_NAME}/{EXAMPLE_OBJECT_KEY}'\")"
   ]
  },
  {
   "cell_type": "code",
   "execution_count": null,
   "metadata": {},
   "outputs": [],
   "source": [
    "# list objects in the bucket\n",
    "try:\n",
    "    from mypy_boto3_s3.type_defs import ListObjectsV2OutputTypeDef\n",
    "except ImportError:\n",
    "    print(\"mypy-boto3-s3 is not installed, skipping type checking\")\n",
    "\n",
    "def list_all_object_keys_in_bucket(\n",
    "    bucket_name: str\n",
    "    ) -> list[str] | None:\n",
    "    \"\"\"\n",
    "    List objects in the bucket\n",
    "    \"\"\"\n",
    "    try:\n",
    "        response = S3_CLIENT.list_objects_v2(Bucket=bucket_name)\n",
    "        return response[\"Contents\"]\n",
    "    except ClientError as e:"
   ]
  },
  {
   "cell_type": "code",
   "execution_count": null,
   "metadata": {},
   "outputs": [],
   "source": [
    "# List all objects in the bucket\n",
    "objects = list_all_object_keys_in_bucket(BUCKET_NAME)\n",
    "if objects:\n",
    "    print(\"Objects in bucket:\")\n",
    "    for obj in objects:\n",
    "        print(f\" - {obj}\")"
   ]
  },
  {
   "cell_type": "code",
   "execution_count": null,
   "metadata": {},
   "outputs": [],
   "source": []
  }
 ],
 "metadata": {
  "kernelspec": {
   "display_name": "venv",
   "language": "python",
   "name": "python3"
  },
  "language_info": {
   "codemirror_mode": {
    "name": "ipython",
    "version": 3
   },
   "file_extension": ".py",
   "mimetype": "text/x-python",
   "name": "python",
   "nbconvert_exporter": "python",
   "pygments_lexer": "ipython3",
   "version": "3.12.9"
  }
 },
 "nbformat": 4,
 "nbformat_minor": 2
}
