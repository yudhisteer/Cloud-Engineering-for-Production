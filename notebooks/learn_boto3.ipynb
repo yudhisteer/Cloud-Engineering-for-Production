{
 "cells": [
  {
   "cell_type": "markdown",
   "metadata": {
    "vscode": {
     "languageId": "raw"
    }
   },
   "source": [
    "# AWS S3 Learning Notebook with boto3   \n",
    "\n",
    "### Prerequisites\n",
    "\n",
    "**Before running this notebook, make sure you're authenticated with AWS SSO:**\n",
    "\n",
    "```bash\n",
    "aws sso login --profile cloud-course\n",
    "```\n",
    "\n",
    "This command needs to be run in your terminal (not in this notebook) and will:\n",
    "- Open a browser window for authentication\n",
    "- Refresh your AWS credentials\n",
    "- Allow this notebook to interact with AWS services\n",
    "\n",
    "⚠️ **Note**: If you get a `TokenRetrievalError`, it means your AWS SSO session has expired. Simply run the login command above again.\n"
   ]
  },
  {
   "cell_type": "code",
   "execution_count": 123,
   "metadata": {},
   "outputs": [],
   "source": [
    "import boto3\n",
    "from botocore.exceptions import ClientError, TokenRetrievalError\n",
    "from uuid import uuid4\n",
    "from  rich import print\n",
    "import os\n",
    "from typing import Optional\n",
    "\n",
    "try:\n",
    "    from mypy_boto3_s3 import S3Client\n",
    "except ImportError:\n",
    "    print(\"mypy_boto3_s3 is not installed. Please install it using 'pip install mypy-boto3-s3'\")"
   ]
  },
  {
   "cell_type": "code",
   "execution_count": 124,
   "metadata": {},
   "outputs": [
    {
     "data": {
      "text/html": [
       "<pre style=\"white-space:pre;overflow-x:auto;line-height:normal;font-family:Menlo,'DejaVu Sans Mono',consolas,'Courier New',monospace\"><span style=\"color: #808000; text-decoration-color: #808000\">BUCKET_NAME</span>=<span style=\"color: #008000; text-decoration-color: #008000\">'cloud-course-bucket-b801'</span>\n",
       "</pre>\n"
      ],
      "text/plain": [
       "\u001b[33mBUCKET_NAME\u001b[0m=\u001b[32m'cloud-course-bucket-b801'\u001b[0m\n"
      ]
     },
     "metadata": {},
     "output_type": "display_data"
    },
    {
     "data": {
      "text/html": [
       "<pre style=\"white-space:pre;overflow-x:auto;line-height:normal;font-family:Menlo,'DejaVu Sans Mono',consolas,'Courier New',monospace\"><span style=\"color: #808000; text-decoration-color: #808000\">EXAMPLE_OBJECT_KEY</span>=<span style=\"color: #008000; text-decoration-color: #008000\">'folder/file.txt'</span>\n",
       "</pre>\n"
      ],
      "text/plain": [
       "\u001b[33mEXAMPLE_OBJECT_KEY\u001b[0m=\u001b[32m'folder/file.txt'\u001b[0m\n"
      ]
     },
     "metadata": {},
     "output_type": "display_data"
    },
    {
     "data": {
      "text/html": [
       "<pre style=\"white-space:pre;overflow-x:auto;line-height:normal;font-family:Menlo,'DejaVu Sans Mono',consolas,'Courier New',monospace\"><span style=\"color: #808000; text-decoration-color: #808000\">EXAMPLE_OBJECT_CONTENT</span>=<span style=\"color: #008000; text-decoration-color: #008000\">'This is a test file!'</span>\n",
       "</pre>\n"
      ],
      "text/plain": [
       "\u001b[33mEXAMPLE_OBJECT_CONTENT\u001b[0m=\u001b[32m'This is a test file!'\u001b[0m\n"
      ]
     },
     "metadata": {},
     "output_type": "display_data"
    },
    {
     "data": {
      "text/html": [
       "<pre style=\"white-space:pre;overflow-x:auto;line-height:normal;font-family:Menlo,'DejaVu Sans Mono',consolas,'Courier New',monospace\"><span style=\"color: #808000; text-decoration-color: #808000\">EXAMPLE_OBJECTS</span>=<span style=\"font-weight: bold\">[{</span><span style=\"color: #008000; text-decoration-color: #008000\">'example-a/object/file1.txt'</span>: <span style=\"color: #008000; text-decoration-color: #008000\">'This is a test object.'</span><span style=\"font-weight: bold\">}</span>, <span style=\"font-weight: bold\">{</span><span style=\"color: #008000; text-decoration-color: #008000\">'example-b/object/file2.txt'</span>: <span style=\"color: #008000; text-decoration-color: #008000\">'This is </span>\n",
       "<span style=\"color: #008000; text-decoration-color: #008000\">another test object.'</span><span style=\"font-weight: bold\">}</span>, <span style=\"font-weight: bold\">{</span><span style=\"color: #008000; text-decoration-color: #008000\">'example-c/object/file3.txt'</span>: <span style=\"color: #008000; text-decoration-color: #008000\">'This is a third test object.'</span><span style=\"font-weight: bold\">}</span>, \n",
       "<span style=\"font-weight: bold\">{</span><span style=\"color: #008000; text-decoration-color: #008000\">'example-d/object/file4.txt'</span>: <span style=\"color: #008000; text-decoration-color: #008000\">'This is a fourth test object.'</span><span style=\"font-weight: bold\">}</span>, <span style=\"font-weight: bold\">{</span><span style=\"color: #008000; text-decoration-color: #008000\">'example-e/object/file5.txt'</span>: <span style=\"color: #008000; text-decoration-color: #008000\">'This is a fifth </span>\n",
       "<span style=\"color: #008000; text-decoration-color: #008000\">test object.'</span><span style=\"font-weight: bold\">}]</span>\n",
       "</pre>\n"
      ],
      "text/plain": [
       "\u001b[33mEXAMPLE_OBJECTS\u001b[0m=\u001b[1m[\u001b[0m\u001b[1m{\u001b[0m\u001b[32m'example-a/object/file1.txt'\u001b[0m: \u001b[32m'This is a test object.'\u001b[0m\u001b[1m}\u001b[0m, \u001b[1m{\u001b[0m\u001b[32m'example-b/object/file2.txt'\u001b[0m: \u001b[32m'This is \u001b[0m\n",
       "\u001b[32manother test object.'\u001b[0m\u001b[1m}\u001b[0m, \u001b[1m{\u001b[0m\u001b[32m'example-c/object/file3.txt'\u001b[0m: \u001b[32m'This is a third test object.'\u001b[0m\u001b[1m}\u001b[0m, \n",
       "\u001b[1m{\u001b[0m\u001b[32m'example-d/object/file4.txt'\u001b[0m: \u001b[32m'This is a fourth test object.'\u001b[0m\u001b[1m}\u001b[0m, \u001b[1m{\u001b[0m\u001b[32m'example-e/object/file5.txt'\u001b[0m: \u001b[32m'This is a fifth \u001b[0m\n",
       "\u001b[32mtest object.'\u001b[0m\u001b[1m}\u001b[0m\u001b[1m]\u001b[0m\n"
      ]
     },
     "metadata": {},
     "output_type": "display_data"
    }
   ],
   "source": [
    "# Constants\n",
    "\n",
    "os.environ[\"AWS_PROFILE\"] = \"cloud-course\"\n",
    "os.environ[\"AWS_REGION\"] = \"us-east-1\"\n",
    "\n",
    "# crearet a session\n",
    "S3_CLIENT: S3Client = boto3.client(\"s3\")\n",
    "\n",
    "# create a bucket\n",
    "BUCKET_NAME = f\"cloud-course-bucket-{str(uuid4())[:4]}\"\n",
    "\n",
    "EXAMPLE_OBJECT_KEY = \"folder/file.txt\"\n",
    "EXAMPLE_OBJECT_CONTENT = \"This is a test file!\"\n",
    "\n",
    "EXAMPLE_OBJECTS = [\n",
    "    {\"example-a/object/file1.txt\": \"This is a test object.\"},\n",
    "    {\"example-b/object/file2.txt\": \"This is another test object.\"},\n",
    "    {\"example-c/object/file3.txt\": \"This is a third test object.\"},\n",
    "    {\"example-d/object/file4.txt\": \"This is a fourth test object.\"},\n",
    "    {\"example-e/object/file5.txt\": \"This is a fifth test object.\"},\n",
    "]\n",
    "\n",
    "print(f\"{BUCKET_NAME=}\")\n",
    "print(f\"{EXAMPLE_OBJECT_KEY=}\")\n",
    "print(f\"{EXAMPLE_OBJECT_CONTENT=}\")\n",
    "print(f\"{EXAMPLE_OBJECTS=}\")\n"
   ]
  },
  {
   "cell_type": "markdown",
   "metadata": {},
   "source": [
    "### 1. Create a bucket"
   ]
  },
  {
   "cell_type": "code",
   "execution_count": 125,
   "metadata": {},
   "outputs": [],
   "source": [
    "# Create a bucket\n",
    "\n",
    "try:\n",
    "    from mypy_boto3_s3.type_defs import CreateBucketOutputTypeDef\n",
    "except ImportError:\n",
    "    print(\"mypy-boto3-s3 is not installed, skipping type checking\")\n",
    "\n",
    "\n",
    "def create_bucket(bucket_name: str) -> Optional[\"CreateBucketOutputTypeDef\"]:\n",
    "    \"\"\"\n",
    "    Create a bucket\n",
    "    \n",
    "    Args:\n",
    "        bucket_name: The name of the bucket to create\n",
    "\n",
    "    Returns:\n",
    "        The output of the create_bucket operation\n",
    "    \"\"\"\n",
    "    try:\n",
    "        return S3_CLIENT.create_bucket(Bucket=bucket_name)\n",
    "    except TokenRetrievalError:\n",
    "        print(\"❌ AWS SSO token has expired!\")\n",
    "        print(\"🔧 Please run this command in your terminal:\")\n",
    "        print(\"   aws sso login --profile <profile_name>\")\n",
    "        print(\"📝 Then restart this notebook and try again.\")\n",
    "        raise\n",
    "    except ClientError as e:\n",
    "        error_code = e.response.get(\"Error\", {}).get(\"Code\")\n",
    "        if error_code == 'BucketAlreadyOwnedByYou':\n",
    "            print(f\"✅ Bucket {bucket_name} already exists and is owned by you\")\n",
    "            return None\n",
    "        elif error_code == 'BucketAlreadyExists':\n",
    "            print(f\"❌ Bucket {bucket_name} already exists and is owned by someone else\")\n",
    "            raise\n",
    "        else:\n",
    "            print(f\"❌ Error creating bucket: {e}\")\n",
    "            raise\n",
    "\n"
   ]
  },
  {
   "cell_type": "code",
   "execution_count": 126,
   "metadata": {},
   "outputs": [
    {
     "data": {
      "text/html": [
       "<pre style=\"white-space:pre;overflow-x:auto;line-height:normal;font-family:Menlo,'DejaVu Sans Mono',consolas,'Courier New',monospace\">✅ Bucket cloud-course-bucket-b801 created successfully\n",
       "</pre>\n"
      ],
      "text/plain": [
       "✅ Bucket cloud-course-bucket-b801 created successfully\n"
      ]
     },
     "metadata": {},
     "output_type": "display_data"
    },
    {
     "data": {
      "text/html": [
       "<pre style=\"white-space:pre;overflow-x:auto;line-height:normal;font-family:Menlo,'DejaVu Sans Mono',consolas,'Courier New',monospace\"><span style=\"color: #808000; text-decoration-color: #808000\">response</span>=<span style=\"font-weight: bold\">{</span><span style=\"color: #008000; text-decoration-color: #008000\">'ResponseMetadata'</span>: <span style=\"font-weight: bold\">{</span><span style=\"color: #008000; text-decoration-color: #008000\">'RequestId'</span>: <span style=\"color: #008000; text-decoration-color: #008000\">'JCR4M80GGS8HPKFH'</span>, <span style=\"color: #008000; text-decoration-color: #008000\">'HostId'</span>: \n",
       "<span style=\"color: #008000; text-decoration-color: #008000\">'cSF9kFqZ19LEOgINcFFlnJ4+JETQsgDrtKSlqt5+6HGzH846OTA53FBnpkf0Stp/7QGDK1IAkqw='</span>, <span style=\"color: #008000; text-decoration-color: #008000\">'HTTPStatusCode'</span>: <span style=\"color: #008080; text-decoration-color: #008080; font-weight: bold\">200</span>, \n",
       "<span style=\"color: #008000; text-decoration-color: #008000\">'HTTPHeaders'</span>: <span style=\"font-weight: bold\">{</span><span style=\"color: #008000; text-decoration-color: #008000\">'x-amz-id-2'</span>: <span style=\"color: #008000; text-decoration-color: #008000\">'cSF9kFqZ19LEOgINcFFlnJ4+JETQsgDrtKSlqt5+6HGzH846OTA53FBnpkf0Stp/7QGDK1IAkqw='</span>, \n",
       "<span style=\"color: #008000; text-decoration-color: #008000\">'x-amz-request-id'</span>: <span style=\"color: #008000; text-decoration-color: #008000\">'JCR4M80GGS8HPKFH'</span>, <span style=\"color: #008000; text-decoration-color: #008000\">'date'</span>: <span style=\"color: #008000; text-decoration-color: #008000\">'Wed, 09 Jul 2025 22:58:46 GMT'</span>, <span style=\"color: #008000; text-decoration-color: #008000\">'location'</span>: \n",
       "<span style=\"color: #008000; text-decoration-color: #008000\">'/cloud-course-bucket-b801'</span>, <span style=\"color: #008000; text-decoration-color: #008000\">'content-length'</span>: <span style=\"color: #008000; text-decoration-color: #008000\">'0'</span>, <span style=\"color: #008000; text-decoration-color: #008000\">'server'</span>: <span style=\"color: #008000; text-decoration-color: #008000\">'AmazonS3'</span><span style=\"font-weight: bold\">}</span>, <span style=\"color: #008000; text-decoration-color: #008000\">'RetryAttempts'</span>: <span style=\"color: #008080; text-decoration-color: #008080; font-weight: bold\">0</span><span style=\"font-weight: bold\">}</span>, <span style=\"color: #008000; text-decoration-color: #008000\">'Location'</span>: \n",
       "<span style=\"color: #008000; text-decoration-color: #008000\">'/cloud-course-bucket-b801'</span><span style=\"font-weight: bold\">}</span>\n",
       "</pre>\n"
      ],
      "text/plain": [
       "\u001b[33mresponse\u001b[0m=\u001b[1m{\u001b[0m\u001b[32m'ResponseMetadata'\u001b[0m: \u001b[1m{\u001b[0m\u001b[32m'RequestId'\u001b[0m: \u001b[32m'JCR4M80GGS8HPKFH'\u001b[0m, \u001b[32m'HostId'\u001b[0m: \n",
       "\u001b[32m'cSF9kFqZ19LEOgINcFFlnJ4+JETQsgDrtKSlqt5+6HGzH846OTA53FBnpkf0Stp/\u001b[0m\u001b[32m7QGDK1IAkqw\u001b[0m\u001b[32m='\u001b[0m, \u001b[32m'HTTPStatusCode'\u001b[0m: \u001b[1;36m200\u001b[0m, \n",
       "\u001b[32m'HTTPHeaders'\u001b[0m: \u001b[1m{\u001b[0m\u001b[32m'x-amz-id-2'\u001b[0m: \u001b[32m'cSF9kFqZ19LEOgINcFFlnJ4+JETQsgDrtKSlqt5+6HGzH846OTA53FBnpkf0Stp/\u001b[0m\u001b[32m7QGDK1IAkqw\u001b[0m\u001b[32m='\u001b[0m, \n",
       "\u001b[32m'x-amz-request-id'\u001b[0m: \u001b[32m'JCR4M80GGS8HPKFH'\u001b[0m, \u001b[32m'date'\u001b[0m: \u001b[32m'Wed, 09 Jul 2025 22:58:46 GMT'\u001b[0m, \u001b[32m'location'\u001b[0m: \n",
       "\u001b[32m'/cloud-course-bucket-b801'\u001b[0m, \u001b[32m'content-length'\u001b[0m: \u001b[32m'0'\u001b[0m, \u001b[32m'server'\u001b[0m: \u001b[32m'AmazonS3'\u001b[0m\u001b[1m}\u001b[0m, \u001b[32m'RetryAttempts'\u001b[0m: \u001b[1;36m0\u001b[0m\u001b[1m}\u001b[0m, \u001b[32m'Location'\u001b[0m: \n",
       "\u001b[32m'/cloud-course-bucket-b801'\u001b[0m\u001b[1m}\u001b[0m\n"
      ]
     },
     "metadata": {},
     "output_type": "display_data"
    }
   ],
   "source": [
    "# create a bucket\n",
    "response = create_bucket(bucket_name=BUCKET_NAME)\n",
    "if response:\n",
    "    print(f\"✅ Bucket {BUCKET_NAME} created successfully\")\n",
    "    print(f\"{response=}\")\n",
    "else:\n",
    "    print(f\"ℹ️  Using existing bucket {BUCKET_NAME}\")"
   ]
  },
  {
   "cell_type": "markdown",
   "metadata": {},
   "source": [
    "### 2. Write an object to the bucket"
   ]
  },
  {
   "cell_type": "code",
   "execution_count": 127,
   "metadata": {},
   "outputs": [],
   "source": [
    "# write an object to the bucket\n",
    "try:\n",
    "    from mypy_boto3_s3.type_defs import PutObjectOutputTypeDef\n",
    "except ImportError:\n",
    "    print(\"mypy-boto3-s3 is not installed, skipping type checking\")\n",
    "\n",
    "\n",
    "def write_text_object_to_bucket(\n",
    "    bucket_name: str, \n",
    "    object_key: str, \n",
    "    object_content: str) -> Optional[\"PutObjectOutputTypeDef\"]:\n",
    "    \"\"\"\n",
    "    Write a text object to the bucket\n",
    "    \"\"\"\n",
    "    try:\n",
    "        return S3_CLIENT.put_object(Bucket=bucket_name, Key=object_key, Body=object_content)\n",
    "    except ClientError as e:\n",
    "        error_code = e.response.get(\"Error\", {}).get(\"Code\")\n",
    "        raise Exception(f\"❌ Error writing object to bucket: {error_code}\")"
   ]
  },
  {
   "cell_type": "code",
   "execution_count": 128,
   "metadata": {},
   "outputs": [
    {
     "data": {
      "text/html": [
       "<pre style=\"white-space:pre;overflow-x:auto;line-height:normal;font-family:Menlo,'DejaVu Sans Mono',consolas,'Courier New',monospace\">✅ Object written to path <span style=\"color: #008000; text-decoration-color: #008000\">'s3://cloud-course-bucket-b801/folder/file.txt'</span>\n",
       "</pre>\n"
      ],
      "text/plain": [
       "✅ Object written to path \u001b[32m's3://cloud-course-bucket-b801/folder/file.txt'\u001b[0m\n"
      ]
     },
     "metadata": {},
     "output_type": "display_data"
    },
    {
     "data": {
      "text/html": [
       "<pre style=\"white-space:pre;overflow-x:auto;line-height:normal;font-family:Menlo,'DejaVu Sans Mono',consolas,'Courier New',monospace\"><span style=\"color: #808000; text-decoration-color: #808000\">response</span>=<span style=\"font-weight: bold\">{</span><span style=\"color: #008000; text-decoration-color: #008000\">'ResponseMetadata'</span>: <span style=\"font-weight: bold\">{</span><span style=\"color: #008000; text-decoration-color: #008000\">'RequestId'</span>: <span style=\"color: #008000; text-decoration-color: #008000\">'8RX6H46HC4F1RJPH'</span>, <span style=\"color: #008000; text-decoration-color: #008000\">'HostId'</span>: \n",
       "<span style=\"color: #008000; text-decoration-color: #008000\">'flEBjoLvJ5jV2IrQXVNgaqsMLBGcJAJNDPFvrk/9Ss8X83iWyGQQZQEpvQ7+GqWgPBP/i3YMkT4='</span>, <span style=\"color: #008000; text-decoration-color: #008000\">'HTTPStatusCode'</span>: <span style=\"color: #008080; text-decoration-color: #008080; font-weight: bold\">200</span>, \n",
       "<span style=\"color: #008000; text-decoration-color: #008000\">'HTTPHeaders'</span>: <span style=\"font-weight: bold\">{</span><span style=\"color: #008000; text-decoration-color: #008000\">'x-amz-id-2'</span>: <span style=\"color: #008000; text-decoration-color: #008000\">'flEBjoLvJ5jV2IrQXVNgaqsMLBGcJAJNDPFvrk/9Ss8X83iWyGQQZQEpvQ7+GqWgPBP/i3YMkT4='</span>, \n",
       "<span style=\"color: #008000; text-decoration-color: #008000\">'x-amz-request-id'</span>: <span style=\"color: #008000; text-decoration-color: #008000\">'8RX6H46HC4F1RJPH'</span>, <span style=\"color: #008000; text-decoration-color: #008000\">'date'</span>: <span style=\"color: #008000; text-decoration-color: #008000\">'Wed, 09 Jul 2025 22:58:47 GMT'</span>, <span style=\"color: #008000; text-decoration-color: #008000\">'x-amz-server-side-encryption'</span>: \n",
       "<span style=\"color: #008000; text-decoration-color: #008000\">'AES256'</span>, <span style=\"color: #008000; text-decoration-color: #008000\">'etag'</span>: <span style=\"color: #008000; text-decoration-color: #008000\">'\"07aa24d4ee5d5d29fbaf360896713947\"'</span>, <span style=\"color: #008000; text-decoration-color: #008000\">'x-amz-checksum-crc32'</span>: <span style=\"color: #008000; text-decoration-color: #008000\">'fNXj1g=='</span>, <span style=\"color: #008000; text-decoration-color: #008000\">'x-amz-checksum-type'</span>: \n",
       "<span style=\"color: #008000; text-decoration-color: #008000\">'FULL_OBJECT'</span>, <span style=\"color: #008000; text-decoration-color: #008000\">'content-length'</span>: <span style=\"color: #008000; text-decoration-color: #008000\">'0'</span>, <span style=\"color: #008000; text-decoration-color: #008000\">'server'</span>: <span style=\"color: #008000; text-decoration-color: #008000\">'AmazonS3'</span><span style=\"font-weight: bold\">}</span>, <span style=\"color: #008000; text-decoration-color: #008000\">'RetryAttempts'</span>: <span style=\"color: #008080; text-decoration-color: #008080; font-weight: bold\">0</span><span style=\"font-weight: bold\">}</span>, <span style=\"color: #008000; text-decoration-color: #008000\">'ETag'</span>: \n",
       "<span style=\"color: #008000; text-decoration-color: #008000\">'\"07aa24d4ee5d5d29fbaf360896713947\"'</span>, <span style=\"color: #008000; text-decoration-color: #008000\">'ChecksumCRC32'</span>: <span style=\"color: #008000; text-decoration-color: #008000\">'fNXj1g=='</span>, <span style=\"color: #008000; text-decoration-color: #008000\">'ChecksumType'</span>: <span style=\"color: #008000; text-decoration-color: #008000\">'FULL_OBJECT'</span>, \n",
       "<span style=\"color: #008000; text-decoration-color: #008000\">'ServerSideEncryption'</span>: <span style=\"color: #008000; text-decoration-color: #008000\">'AES256'</span><span style=\"font-weight: bold\">}</span>\n",
       "</pre>\n"
      ],
      "text/plain": [
       "\u001b[33mresponse\u001b[0m=\u001b[1m{\u001b[0m\u001b[32m'ResponseMetadata'\u001b[0m: \u001b[1m{\u001b[0m\u001b[32m'RequestId'\u001b[0m: \u001b[32m'8RX6H46HC4F1RJPH'\u001b[0m, \u001b[32m'HostId'\u001b[0m: \n",
       "\u001b[32m'flEBjoLvJ5jV2IrQXVNgaqsMLBGcJAJNDPFvrk/9Ss8X83iWyGQQZQEpvQ7+GqWgPBP/\u001b[0m\u001b[32mi3YMkT4\u001b[0m\u001b[32m='\u001b[0m, \u001b[32m'HTTPStatusCode'\u001b[0m: \u001b[1;36m200\u001b[0m, \n",
       "\u001b[32m'HTTPHeaders'\u001b[0m: \u001b[1m{\u001b[0m\u001b[32m'x-amz-id-2'\u001b[0m: \u001b[32m'flEBjoLvJ5jV2IrQXVNgaqsMLBGcJAJNDPFvrk/9Ss8X83iWyGQQZQEpvQ7+GqWgPBP/\u001b[0m\u001b[32mi3YMkT4\u001b[0m\u001b[32m='\u001b[0m, \n",
       "\u001b[32m'x-amz-request-id'\u001b[0m: \u001b[32m'8RX6H46HC4F1RJPH'\u001b[0m, \u001b[32m'date'\u001b[0m: \u001b[32m'Wed, 09 Jul 2025 22:58:47 GMT'\u001b[0m, \u001b[32m'x-amz-server-side-encryption'\u001b[0m: \n",
       "\u001b[32m'AES256'\u001b[0m, \u001b[32m'etag'\u001b[0m: \u001b[32m'\"07aa24d4ee5d5d29fbaf360896713947\"'\u001b[0m, \u001b[32m'x-amz-checksum-crc32'\u001b[0m: \u001b[32m'\u001b[0m\u001b[32mfNXj1g\u001b[0m\u001b[32m=='\u001b[0m, \u001b[32m'x-amz-checksum-type'\u001b[0m: \n",
       "\u001b[32m'FULL_OBJECT'\u001b[0m, \u001b[32m'content-length'\u001b[0m: \u001b[32m'0'\u001b[0m, \u001b[32m'server'\u001b[0m: \u001b[32m'AmazonS3'\u001b[0m\u001b[1m}\u001b[0m, \u001b[32m'RetryAttempts'\u001b[0m: \u001b[1;36m0\u001b[0m\u001b[1m}\u001b[0m, \u001b[32m'ETag'\u001b[0m: \n",
       "\u001b[32m'\"07aa24d4ee5d5d29fbaf360896713947\"'\u001b[0m, \u001b[32m'ChecksumCRC32'\u001b[0m: \u001b[32m'\u001b[0m\u001b[32mfNXj1g\u001b[0m\u001b[32m=='\u001b[0m, \u001b[32m'ChecksumType'\u001b[0m: \u001b[32m'FULL_OBJECT'\u001b[0m, \n",
       "\u001b[32m'ServerSideEncryption'\u001b[0m: \u001b[32m'AES256'\u001b[0m\u001b[1m}\u001b[0m\n"
      ]
     },
     "metadata": {},
     "output_type": "display_data"
    }
   ],
   "source": [
    "# write a single example object to the bucket\n",
    "response = write_text_object_to_bucket(\n",
    "    bucket_name=BUCKET_NAME, \n",
    "    object_key=EXAMPLE_OBJECT_KEY, \n",
    "    object_content=EXAMPLE_OBJECT_CONTENT)\n",
    "\n",
    "print(f\"✅ Object written to path 's3://{BUCKET_NAME}/{EXAMPLE_OBJECT_KEY}'\")\n",
    "print(f\"{response=}\")"
   ]
  },
  {
   "cell_type": "code",
   "execution_count": 129,
   "metadata": {},
   "outputs": [
    {
     "data": {
      "text/html": [
       "<pre style=\"white-space:pre;overflow-x:auto;line-height:normal;font-family:Menlo,'DejaVu Sans Mono',consolas,'Courier New',monospace\">Writing object to path <span style=\"color: #008000; text-decoration-color: #008000\">'s3://cloud-course-bucket-b801/example-a/object/file1.txt'</span>\n",
       "</pre>\n"
      ],
      "text/plain": [
       "Writing object to path \u001b[32m's3://cloud-course-bucket-b801/example-a/object/file1.txt'\u001b[0m\n"
      ]
     },
     "metadata": {},
     "output_type": "display_data"
    },
    {
     "data": {
      "text/html": [
       "<pre style=\"white-space:pre;overflow-x:auto;line-height:normal;font-family:Menlo,'DejaVu Sans Mono',consolas,'Courier New',monospace\">Writing object to path <span style=\"color: #008000; text-decoration-color: #008000\">'s3://cloud-course-bucket-b801/example-b/object/file2.txt'</span>\n",
       "</pre>\n"
      ],
      "text/plain": [
       "Writing object to path \u001b[32m's3://cloud-course-bucket-b801/example-b/object/file2.txt'\u001b[0m\n"
      ]
     },
     "metadata": {},
     "output_type": "display_data"
    },
    {
     "data": {
      "text/html": [
       "<pre style=\"white-space:pre;overflow-x:auto;line-height:normal;font-family:Menlo,'DejaVu Sans Mono',consolas,'Courier New',monospace\">Writing object to path <span style=\"color: #008000; text-decoration-color: #008000\">'s3://cloud-course-bucket-b801/example-c/object/file3.txt'</span>\n",
       "</pre>\n"
      ],
      "text/plain": [
       "Writing object to path \u001b[32m's3://cloud-course-bucket-b801/example-c/object/file3.txt'\u001b[0m\n"
      ]
     },
     "metadata": {},
     "output_type": "display_data"
    },
    {
     "data": {
      "text/html": [
       "<pre style=\"white-space:pre;overflow-x:auto;line-height:normal;font-family:Menlo,'DejaVu Sans Mono',consolas,'Courier New',monospace\">Writing object to path <span style=\"color: #008000; text-decoration-color: #008000\">'s3://cloud-course-bucket-b801/example-d/object/file4.txt'</span>\n",
       "</pre>\n"
      ],
      "text/plain": [
       "Writing object to path \u001b[32m's3://cloud-course-bucket-b801/example-d/object/file4.txt'\u001b[0m\n"
      ]
     },
     "metadata": {},
     "output_type": "display_data"
    },
    {
     "data": {
      "text/html": [
       "<pre style=\"white-space:pre;overflow-x:auto;line-height:normal;font-family:Menlo,'DejaVu Sans Mono',consolas,'Courier New',monospace\">Writing object to path <span style=\"color: #008000; text-decoration-color: #008000\">'s3://cloud-course-bucket-b801/example-e/object/file5.txt'</span>\n",
       "</pre>\n"
      ],
      "text/plain": [
       "Writing object to path \u001b[32m's3://cloud-course-bucket-b801/example-e/object/file5.txt'\u001b[0m\n"
      ]
     },
     "metadata": {},
     "output_type": "display_data"
    }
   ],
   "source": [
    "# write multiple example objects to the bucket\n",
    "for example_object in EXAMPLE_OBJECTS:\n",
    "    for object_key, object_content in example_object.items():\n",
    "        print(f\"Writing object to path 's3://{BUCKET_NAME}/{object_key}'\")\n",
    "        write_text_object_to_bucket(\n",
    "            bucket_name=BUCKET_NAME, \n",
    "            object_key=object_key, \n",
    "            object_content=object_content\n",
    "            )"
   ]
  },
  {
   "cell_type": "markdown",
   "metadata": {},
   "source": [
    "### 3. Read an object from the bucket"
   ]
  },
  {
   "cell_type": "code",
   "execution_count": 130,
   "metadata": {},
   "outputs": [],
   "source": [
    "# read object from s3\n",
    "from botocore.response import StreamingBody\n",
    "\n",
    "def read_text_object_from_bucket(\n",
    "    bucket_name: str, \n",
    "    object_key: str) -> str | None:\n",
    "    \"\"\"\n",
    "    Read a text object from the bucket\n",
    "    \"\"\"\n",
    "    response = S3_CLIENT.get_object(Bucket=bucket_name, Key=object_key)\n",
    "    content_streaming_body: StreamingBody = response[\"Body\"]\n",
    "    content:str = content_streaming_body.read().decode(\"utf-8\")\n",
    "    return content"
   ]
  },
  {
   "cell_type": "code",
   "execution_count": 131,
   "metadata": {},
   "outputs": [
    {
     "data": {
      "text/html": [
       "<pre style=\"white-space:pre;overflow-x:auto;line-height:normal;font-family:Menlo,'DejaVu Sans Mono',consolas,'Courier New',monospace\">✅ Object read from path <span style=\"color: #008000; text-decoration-color: #008000\">'s3://cloud-course-bucket-b801/folder/file.txt'</span>\n",
       "</pre>\n"
      ],
      "text/plain": [
       "✅ Object read from path \u001b[32m's3://cloud-course-bucket-b801/folder/file.txt'\u001b[0m\n"
      ]
     },
     "metadata": {},
     "output_type": "display_data"
    },
    {
     "data": {
      "text/html": [
       "<pre style=\"white-space:pre;overflow-x:auto;line-height:normal;font-family:Menlo,'DejaVu Sans Mono',consolas,'Courier New',monospace\"><span style=\"color: #808000; text-decoration-color: #808000\">content</span>=<span style=\"color: #008000; text-decoration-color: #008000\">'This is a test file!'</span>\n",
       "</pre>\n"
      ],
      "text/plain": [
       "\u001b[33mcontent\u001b[0m=\u001b[32m'This is a test file!'\u001b[0m\n"
      ]
     },
     "metadata": {},
     "output_type": "display_data"
    }
   ],
   "source": [
    "# read a single example object from the bucket\n",
    "content = read_text_object_from_bucket(\n",
    "    bucket_name=BUCKET_NAME, \n",
    "    object_key=EXAMPLE_OBJECT_KEY\n",
    "    )\n",
    "\n",
    "if content:\n",
    "    print(f\"✅ Object read from path 's3://{BUCKET_NAME}/{EXAMPLE_OBJECT_KEY}'\")\n",
    "    print(f\"{content=}\")\n",
    "else:\n",
    "    print(f\"❌ Object not found in path 's3://{BUCKET_NAME}/{EXAMPLE_OBJECT_KEY}'\")"
   ]
  },
  {
   "cell_type": "markdown",
   "metadata": {},
   "source": [
    "### 4. List all objects in the bucket\n",
    "\n",
    "Resource:\n",
    "- https://boto3.amazonaws.com/v1/documentation/api/latest/guide/paginators.html#creating-paginators\n",
    "- https://boto3.amazonaws.com/v1/documentation/api/latest/guide/resources.html#resources\n",
    "\n",
    "\n",
    "S3's list_objects_v2 API returns up to 1,000 objects per request, so the function uses a while loop with a continuation_token to fetch all objects across multiple pages.\n"
   ]
  },
  {
   "cell_type": "code",
   "execution_count": 132,
   "metadata": {},
   "outputs": [],
   "source": [
    "# list objects in the bucket\n",
    "try:\n",
    "    from mypy_boto3_s3.type_defs import ListObjectsV2OutputTypeDef\n",
    "except ImportError:\n",
    "    print(\"mypy-boto3-s3 is not installed, skipping type checking\")\n",
    "\n",
    "def list_all_object_keys_in_bucket(bucket_name: str) -> list[str]:\n",
    "    \"\"\"\n",
    "    List objects in the bucket\n",
    "    \"\"\"\n",
    "    objects = []\n",
    "    continuation_token = None\n",
    "    try:\n",
    "        while True:\n",
    "            # If a continuation token exists, use it to fetch the next page of results\n",
    "            if continuation_token:\n",
    "                response = S3_CLIENT.list_objects_v2(Bucket=bucket_name, ContinuationToken=continuation_token)\n",
    "            else:\n",
    "                # If no continuation token (first page), fetch the first page of objects\n",
    "                response: ListObjectsV2OutputTypeDef = S3_CLIENT.list_objects_v2(Bucket=bucket_name)\n",
    "            \n",
    "            # Extract object keys from the response's \"Contents\" field (if it exists)\n",
    "            # Use a list comprehension to get the \"Key\" from each object in Contents\n",
    "            # If \"Contents\" is missing, default to an empty list to avoid errors\n",
    "            objects.extend([obj[\"Key\"] for obj in response.get(\"Contents\", []) if \"Key\" in obj])\n",
    "            # Get the continuation token from the response's \"NextContinuationToken\" field\n",
    "            # AWS S3 provides this token in the response if there are more objects to fetch\n",
    "            # If no more objects exist, \"NextContinuationToken\" will be absent, and continuation_token will be None\n",
    "            continuation_token = response.get(\"NextContinuationToken\")\n",
    "            # If no continuation token exists, all pages have been fetched, so exit the loop\n",
    "            if not continuation_token:\n",
    "                break\n",
    "        return objects\n",
    "    except ClientError as e:\n",
    "        error_code = e.response.get(\"Error\", {}).get(\"Code\")\n",
    "        raise Exception(f\"❌ Error listing objects in bucket: {error_code}\")"
   ]
  },
  {
   "cell_type": "code",
   "execution_count": 133,
   "metadata": {},
   "outputs": [
    {
     "data": {
      "text/html": [
       "<pre style=\"white-space:pre;overflow-x:auto;line-height:normal;font-family:Menlo,'DejaVu Sans Mono',consolas,'Courier New',monospace\">Objects in bucket:\n",
       "</pre>\n"
      ],
      "text/plain": [
       "Objects in bucket:\n"
      ]
     },
     "metadata": {},
     "output_type": "display_data"
    },
    {
     "data": {
      "text/html": [
       "<pre style=\"white-space:pre;overflow-x:auto;line-height:normal;font-family:Menlo,'DejaVu Sans Mono',consolas,'Courier New',monospace\"> - example-a/object/file1.txt\n",
       "</pre>\n"
      ],
      "text/plain": [
       " - example-a/object/file1.txt\n"
      ]
     },
     "metadata": {},
     "output_type": "display_data"
    },
    {
     "data": {
      "text/html": [
       "<pre style=\"white-space:pre;overflow-x:auto;line-height:normal;font-family:Menlo,'DejaVu Sans Mono',consolas,'Courier New',monospace\"> - example-b/object/file2.txt\n",
       "</pre>\n"
      ],
      "text/plain": [
       " - example-b/object/file2.txt\n"
      ]
     },
     "metadata": {},
     "output_type": "display_data"
    },
    {
     "data": {
      "text/html": [
       "<pre style=\"white-space:pre;overflow-x:auto;line-height:normal;font-family:Menlo,'DejaVu Sans Mono',consolas,'Courier New',monospace\"> - example-c/object/file3.txt\n",
       "</pre>\n"
      ],
      "text/plain": [
       " - example-c/object/file3.txt\n"
      ]
     },
     "metadata": {},
     "output_type": "display_data"
    },
    {
     "data": {
      "text/html": [
       "<pre style=\"white-space:pre;overflow-x:auto;line-height:normal;font-family:Menlo,'DejaVu Sans Mono',consolas,'Courier New',monospace\"> - example-d/object/file4.txt\n",
       "</pre>\n"
      ],
      "text/plain": [
       " - example-d/object/file4.txt\n"
      ]
     },
     "metadata": {},
     "output_type": "display_data"
    },
    {
     "data": {
      "text/html": [
       "<pre style=\"white-space:pre;overflow-x:auto;line-height:normal;font-family:Menlo,'DejaVu Sans Mono',consolas,'Courier New',monospace\"> - example-e/object/file5.txt\n",
       "</pre>\n"
      ],
      "text/plain": [
       " - example-e/object/file5.txt\n"
      ]
     },
     "metadata": {},
     "output_type": "display_data"
    },
    {
     "data": {
      "text/html": [
       "<pre style=\"white-space:pre;overflow-x:auto;line-height:normal;font-family:Menlo,'DejaVu Sans Mono',consolas,'Courier New',monospace\"> - folder/file.txt\n",
       "</pre>\n"
      ],
      "text/plain": [
       " - folder/file.txt\n"
      ]
     },
     "metadata": {},
     "output_type": "display_data"
    }
   ],
   "source": [
    "# List all objects in the bucket\n",
    "objects = list_all_object_keys_in_bucket(BUCKET_NAME)\n",
    "if objects:\n",
    "    print(\"Objects in bucket:\")\n",
    "    for obj in objects:\n",
    "        print(f\" - {obj}\")"
   ]
  },
  {
   "cell_type": "markdown",
   "metadata": {},
   "source": [
    "### 5. Update/Overwrite an object"
   ]
  },
  {
   "cell_type": "code",
   "execution_count": 134,
   "metadata": {},
   "outputs": [
    {
     "data": {
      "text/html": [
       "<pre style=\"white-space:pre;overflow-x:auto;line-height:normal;font-family:Menlo,'DejaVu Sans Mono',consolas,'Courier New',monospace\"><span style=\"font-weight: bold\">{</span>\n",
       "    <span style=\"color: #008000; text-decoration-color: #008000\">'ResponseMetadata'</span>: <span style=\"font-weight: bold\">{</span>\n",
       "        <span style=\"color: #008000; text-decoration-color: #008000\">'RequestId'</span>: <span style=\"color: #008000; text-decoration-color: #008000\">'01H0FXX2AJ8NAJSV'</span>,\n",
       "        <span style=\"color: #008000; text-decoration-color: #008000\">'HostId'</span>: <span style=\"color: #008000; text-decoration-color: #008000\">'bqkr73/aD8VHs9haLq1uHaCEPDrxH1j0+z7x7LrNKvHD8RDOd2Gj5D69YXs6dP8CvZVJaQc5HkY='</span>,\n",
       "        <span style=\"color: #008000; text-decoration-color: #008000\">'HTTPStatusCode'</span>: <span style=\"color: #008080; text-decoration-color: #008080; font-weight: bold\">200</span>,\n",
       "        <span style=\"color: #008000; text-decoration-color: #008000\">'HTTPHeaders'</span>: <span style=\"font-weight: bold\">{</span>\n",
       "            <span style=\"color: #008000; text-decoration-color: #008000\">'x-amz-id-2'</span>: <span style=\"color: #008000; text-decoration-color: #008000\">'bqkr73/aD8VHs9haLq1uHaCEPDrxH1j0+z7x7LrNKvHD8RDOd2Gj5D69YXs6dP8CvZVJaQc5HkY='</span>,\n",
       "            <span style=\"color: #008000; text-decoration-color: #008000\">'x-amz-request-id'</span>: <span style=\"color: #008000; text-decoration-color: #008000\">'01H0FXX2AJ8NAJSV'</span>,\n",
       "            <span style=\"color: #008000; text-decoration-color: #008000\">'date'</span>: <span style=\"color: #008000; text-decoration-color: #008000\">'Wed, 09 Jul 2025 22:58:48 GMT'</span>,\n",
       "            <span style=\"color: #008000; text-decoration-color: #008000\">'x-amz-server-side-encryption'</span>: <span style=\"color: #008000; text-decoration-color: #008000\">'AES256'</span>,\n",
       "            <span style=\"color: #008000; text-decoration-color: #008000\">'etag'</span>: <span style=\"color: #008000; text-decoration-color: #008000\">'\"c5a01ee632fac2f88da9e0aa5a3d8cdd\"'</span>,\n",
       "            <span style=\"color: #008000; text-decoration-color: #008000\">'x-amz-checksum-crc32'</span>: <span style=\"color: #008000; text-decoration-color: #008000\">'9LZS5A=='</span>,\n",
       "            <span style=\"color: #008000; text-decoration-color: #008000\">'x-amz-checksum-type'</span>: <span style=\"color: #008000; text-decoration-color: #008000\">'FULL_OBJECT'</span>,\n",
       "            <span style=\"color: #008000; text-decoration-color: #008000\">'content-length'</span>: <span style=\"color: #008000; text-decoration-color: #008000\">'0'</span>,\n",
       "            <span style=\"color: #008000; text-decoration-color: #008000\">'server'</span>: <span style=\"color: #008000; text-decoration-color: #008000\">'AmazonS3'</span>\n",
       "        <span style=\"font-weight: bold\">}</span>,\n",
       "        <span style=\"color: #008000; text-decoration-color: #008000\">'RetryAttempts'</span>: <span style=\"color: #008080; text-decoration-color: #008080; font-weight: bold\">0</span>\n",
       "    <span style=\"font-weight: bold\">}</span>,\n",
       "    <span style=\"color: #008000; text-decoration-color: #008000\">'ETag'</span>: <span style=\"color: #008000; text-decoration-color: #008000\">'\"c5a01ee632fac2f88da9e0aa5a3d8cdd\"'</span>,\n",
       "    <span style=\"color: #008000; text-decoration-color: #008000\">'ChecksumCRC32'</span>: <span style=\"color: #008000; text-decoration-color: #008000\">'9LZS5A=='</span>,\n",
       "    <span style=\"color: #008000; text-decoration-color: #008000\">'ChecksumType'</span>: <span style=\"color: #008000; text-decoration-color: #008000\">'FULL_OBJECT'</span>,\n",
       "    <span style=\"color: #008000; text-decoration-color: #008000\">'ServerSideEncryption'</span>: <span style=\"color: #008000; text-decoration-color: #008000\">'AES256'</span>\n",
       "<span style=\"font-weight: bold\">}</span>\n",
       "</pre>\n"
      ],
      "text/plain": [
       "\u001b[1m{\u001b[0m\n",
       "    \u001b[32m'ResponseMetadata'\u001b[0m: \u001b[1m{\u001b[0m\n",
       "        \u001b[32m'RequestId'\u001b[0m: \u001b[32m'01H0FXX2AJ8NAJSV'\u001b[0m,\n",
       "        \u001b[32m'HostId'\u001b[0m: \u001b[32m'bqkr73/aD8VHs9haLq1uHaCEPDrxH1j0+\u001b[0m\u001b[32mz7x7LrNKvHD8RDOd2Gj5D69YXs6dP8CvZVJaQc5HkY\u001b[0m\u001b[32m='\u001b[0m,\n",
       "        \u001b[32m'HTTPStatusCode'\u001b[0m: \u001b[1;36m200\u001b[0m,\n",
       "        \u001b[32m'HTTPHeaders'\u001b[0m: \u001b[1m{\u001b[0m\n",
       "            \u001b[32m'x-amz-id-2'\u001b[0m: \u001b[32m'bqkr73/aD8VHs9haLq1uHaCEPDrxH1j0+\u001b[0m\u001b[32mz7x7LrNKvHD8RDOd2Gj5D69YXs6dP8CvZVJaQc5HkY\u001b[0m\u001b[32m='\u001b[0m,\n",
       "            \u001b[32m'x-amz-request-id'\u001b[0m: \u001b[32m'01H0FXX2AJ8NAJSV'\u001b[0m,\n",
       "            \u001b[32m'date'\u001b[0m: \u001b[32m'Wed, 09 Jul 2025 22:58:48 GMT'\u001b[0m,\n",
       "            \u001b[32m'x-amz-server-side-encryption'\u001b[0m: \u001b[32m'AES256'\u001b[0m,\n",
       "            \u001b[32m'etag'\u001b[0m: \u001b[32m'\"c5a01ee632fac2f88da9e0aa5a3d8cdd\"'\u001b[0m,\n",
       "            \u001b[32m'x-amz-checksum-crc32'\u001b[0m: \u001b[32m'\u001b[0m\u001b[32m9LZS5A\u001b[0m\u001b[32m=='\u001b[0m,\n",
       "            \u001b[32m'x-amz-checksum-type'\u001b[0m: \u001b[32m'FULL_OBJECT'\u001b[0m,\n",
       "            \u001b[32m'content-length'\u001b[0m: \u001b[32m'0'\u001b[0m,\n",
       "            \u001b[32m'server'\u001b[0m: \u001b[32m'AmazonS3'\u001b[0m\n",
       "        \u001b[1m}\u001b[0m,\n",
       "        \u001b[32m'RetryAttempts'\u001b[0m: \u001b[1;36m0\u001b[0m\n",
       "    \u001b[1m}\u001b[0m,\n",
       "    \u001b[32m'ETag'\u001b[0m: \u001b[32m'\"c5a01ee632fac2f88da9e0aa5a3d8cdd\"'\u001b[0m,\n",
       "    \u001b[32m'ChecksumCRC32'\u001b[0m: \u001b[32m'\u001b[0m\u001b[32m9LZS5A\u001b[0m\u001b[32m=='\u001b[0m,\n",
       "    \u001b[32m'ChecksumType'\u001b[0m: \u001b[32m'FULL_OBJECT'\u001b[0m,\n",
       "    \u001b[32m'ServerSideEncryption'\u001b[0m: \u001b[32m'AES256'\u001b[0m\n",
       "\u001b[1m}\u001b[0m\n"
      ]
     },
     "metadata": {},
     "output_type": "display_data"
    },
    {
     "data": {
      "text/html": [
       "<pre style=\"white-space:pre;overflow-x:auto;line-height:normal;font-family:Menlo,'DejaVu Sans Mono',consolas,'Courier New',monospace\">Content of updated object <span style=\"color: #008000; text-decoration-color: #008000\">'folder/file.txt'</span>:\n",
       "This is updated content.\n",
       "</pre>\n"
      ],
      "text/plain": [
       "Content of updated object \u001b[32m'folder/file.txt'\u001b[0m:\n",
       "This is updated content.\n"
      ]
     },
     "metadata": {},
     "output_type": "display_data"
    }
   ],
   "source": [
    "new_content = \"This is updated content.\"\n",
    "\n",
    "# the \"PUT object\" command is an upsert, so it will overwrite existing files\n",
    "response = write_text_object_to_bucket(BUCKET_NAME, EXAMPLE_OBJECT_KEY, new_content)\n",
    "print(response)\n",
    "\n",
    "# Read the updated content of the object\n",
    "updated_content = read_text_object_from_bucket(BUCKET_NAME, EXAMPLE_OBJECT_KEY)\n",
    "if updated_content:\n",
    "    print(f\"Content of updated object '{EXAMPLE_OBJECT_KEY}':\\n{updated_content}\")"
   ]
  },
  {
   "cell_type": "markdown",
   "metadata": {},
   "source": [
    "### 6. Delete an object from the bucket"
   ]
  },
  {
   "cell_type": "code",
   "execution_count": 135,
   "metadata": {},
   "outputs": [],
   "source": [
    "try:\n",
    "    from mypy_boto3_s3.type_defs import DeleteObjectOutputTypeDef\n",
    "except ImportError:\n",
    "    print(\"boto3-stubs[s3] not installed\")\n",
    "\n",
    "\n",
    "def delete_object_from_s3(\n",
    "    bucket_name: str,\n",
    "    object_key: str,\n",
    ") -> Optional[\"DeleteObjectOutputTypeDef\"]:\n",
    "    \"\"\"\n",
    "    Delete an object from an S3 bucket.\n",
    "\n",
    "    :param bucket_name: Name of the bucket to delete the object from\n",
    "    :param object_key: Key of the object to delete\n",
    "    :return: Response from the delete_object call\n",
    "    \"\"\"\n",
    "    try:\n",
    "        return S3_CLIENT.delete_object(Bucket=bucket_name, Key=object_key)\n",
    "    except ClientError as e:\n",
    "        error_code = e.response.get(\"Error\", {}).get(\"Code\")\n",
    "        raise Exception(f\"❌ Error deleting object from bucket: {error_code}\")"
   ]
  },
  {
   "cell_type": "code",
   "execution_count": 136,
   "metadata": {},
   "outputs": [
    {
     "data": {
      "text/html": [
       "<pre style=\"white-space:pre;overflow-x:auto;line-height:normal;font-family:Menlo,'DejaVu Sans Mono',consolas,'Courier New',monospace\"><span style=\"font-weight: bold\">{</span>\n",
       "    <span style=\"color: #008000; text-decoration-color: #008000\">'ResponseMetadata'</span>: <span style=\"font-weight: bold\">{</span>\n",
       "        <span style=\"color: #008000; text-decoration-color: #008000\">'RequestId'</span>: <span style=\"color: #008000; text-decoration-color: #008000\">'DC3R8R8FX7M406SB'</span>,\n",
       "        <span style=\"color: #008000; text-decoration-color: #008000\">'HostId'</span>: <span style=\"color: #008000; text-decoration-color: #008000\">'Huo9UHsGyuz9qZ4QW5lA6vJrGxrPmFu43omk1aQxwtnpmlgPyiNb6a6t0dCiPYJXkj+81qBqrgs='</span>,\n",
       "        <span style=\"color: #008000; text-decoration-color: #008000\">'HTTPStatusCode'</span>: <span style=\"color: #008080; text-decoration-color: #008080; font-weight: bold\">204</span>,\n",
       "        <span style=\"color: #008000; text-decoration-color: #008000\">'HTTPHeaders'</span>: <span style=\"font-weight: bold\">{</span>\n",
       "            <span style=\"color: #008000; text-decoration-color: #008000\">'x-amz-id-2'</span>: <span style=\"color: #008000; text-decoration-color: #008000\">'Huo9UHsGyuz9qZ4QW5lA6vJrGxrPmFu43omk1aQxwtnpmlgPyiNb6a6t0dCiPYJXkj+81qBqrgs='</span>,\n",
       "            <span style=\"color: #008000; text-decoration-color: #008000\">'x-amz-request-id'</span>: <span style=\"color: #008000; text-decoration-color: #008000\">'DC3R8R8FX7M406SB'</span>,\n",
       "            <span style=\"color: #008000; text-decoration-color: #008000\">'date'</span>: <span style=\"color: #008000; text-decoration-color: #008000\">'Wed, 09 Jul 2025 22:58:49 GMT'</span>,\n",
       "            <span style=\"color: #008000; text-decoration-color: #008000\">'server'</span>: <span style=\"color: #008000; text-decoration-color: #008000\">'AmazonS3'</span>\n",
       "        <span style=\"font-weight: bold\">}</span>,\n",
       "        <span style=\"color: #008000; text-decoration-color: #008000\">'RetryAttempts'</span>: <span style=\"color: #008080; text-decoration-color: #008080; font-weight: bold\">0</span>\n",
       "    <span style=\"font-weight: bold\">}</span>\n",
       "<span style=\"font-weight: bold\">}</span>\n",
       "</pre>\n"
      ],
      "text/plain": [
       "\u001b[1m{\u001b[0m\n",
       "    \u001b[32m'ResponseMetadata'\u001b[0m: \u001b[1m{\u001b[0m\n",
       "        \u001b[32m'RequestId'\u001b[0m: \u001b[32m'DC3R8R8FX7M406SB'\u001b[0m,\n",
       "        \u001b[32m'HostId'\u001b[0m: \u001b[32m'Huo9UHsGyuz9qZ4QW5lA6vJrGxrPmFu43omk1aQxwtnpmlgPyiNb6a6t0dCiPYJXkj+\u001b[0m\u001b[32m81qBqrgs\u001b[0m\u001b[32m='\u001b[0m,\n",
       "        \u001b[32m'HTTPStatusCode'\u001b[0m: \u001b[1;36m204\u001b[0m,\n",
       "        \u001b[32m'HTTPHeaders'\u001b[0m: \u001b[1m{\u001b[0m\n",
       "            \u001b[32m'x-amz-id-2'\u001b[0m: \u001b[32m'Huo9UHsGyuz9qZ4QW5lA6vJrGxrPmFu43omk1aQxwtnpmlgPyiNb6a6t0dCiPYJXkj+\u001b[0m\u001b[32m81qBqrgs\u001b[0m\u001b[32m='\u001b[0m,\n",
       "            \u001b[32m'x-amz-request-id'\u001b[0m: \u001b[32m'DC3R8R8FX7M406SB'\u001b[0m,\n",
       "            \u001b[32m'date'\u001b[0m: \u001b[32m'Wed, 09 Jul 2025 22:58:49 GMT'\u001b[0m,\n",
       "            \u001b[32m'server'\u001b[0m: \u001b[32m'AmazonS3'\u001b[0m\n",
       "        \u001b[1m}\u001b[0m,\n",
       "        \u001b[32m'RetryAttempts'\u001b[0m: \u001b[1;36m0\u001b[0m\n",
       "    \u001b[1m}\u001b[0m\n",
       "\u001b[1m}\u001b[0m\n"
      ]
     },
     "metadata": {},
     "output_type": "display_data"
    }
   ],
   "source": [
    "# Delete the example object\n",
    "response = delete_object_from_s3(bucket_name=BUCKET_NAME, object_key=EXAMPLE_OBJECT_KEY)\n",
    "print(response)"
   ]
  },
  {
   "cell_type": "markdown",
   "metadata": {},
   "source": [
    "### 7. Reading a non-existing object"
   ]
  },
  {
   "cell_type": "code",
   "execution_count": 137,
   "metadata": {},
   "outputs": [
    {
     "data": {
      "text/html": [
       "<pre style=\"white-space:pre;overflow-x:auto;line-height:normal;font-family:Menlo,'DejaVu Sans Mono',consolas,'Courier New',monospace\">Trying to read the deleted object at <span style=\"color: #008000; text-decoration-color: #008000\">'s3://cloud-course-bucket-b801/folder/file.txt'</span> <span style=\"color: #808000; text-decoration-color: #808000\">...</span>\n",
       "</pre>\n"
      ],
      "text/plain": [
       "Trying to read the deleted object at \u001b[32m's3://cloud-course-bucket-b801/folder/file.txt'\u001b[0m \u001b[33m...\u001b[0m\n"
      ]
     },
     "metadata": {},
     "output_type": "display_data"
    }
   ],
   "source": [
    "print(f\"Trying to read the deleted object at 's3://{BUCKET_NAME}/{EXAMPLE_OBJECT_KEY}' ...\")\n",
    "\n",
    "delete_object_from_s3(bucket_name=BUCKET_NAME, object_key=EXAMPLE_OBJECT_KEY)\n",
    "\n",
    "try:\n",
    "    # try to read the deleted object\n",
    "    read_text_object_from_bucket(BUCKET_NAME, EXAMPLE_OBJECT_KEY)\n",
    "except ClientError as err:\n",
    "    assert \"NoSuchKey\" in str(err)"
   ]
  },
  {
   "cell_type": "markdown",
   "metadata": {},
   "source": [
    "### 8. Deleting a non-existent object\n",
    "\n",
    "Note: the result of calling s3_client.delete_object on a non-existent object succeeds whether or not there exists an object with the given key.\n",
    "\n",
    "Note: The HTTP status code 204 means No Content. Or in other words, the request is successful but there was nothing to delete."
   ]
  },
  {
   "cell_type": "code",
   "execution_count": 138,
   "metadata": {},
   "outputs": [
    {
     "data": {
      "text/html": [
       "<pre style=\"white-space:pre;overflow-x:auto;line-height:normal;font-family:Menlo,'DejaVu Sans Mono',consolas,'Courier New',monospace\"><span style=\"font-weight: bold\">{</span>\n",
       "    <span style=\"color: #008000; text-decoration-color: #008000\">'ResponseMetadata'</span>: <span style=\"font-weight: bold\">{</span>\n",
       "        <span style=\"color: #008000; text-decoration-color: #008000\">'RequestId'</span>: <span style=\"color: #008000; text-decoration-color: #008000\">'DC3TXM9KEDP4JJP0'</span>,\n",
       "        <span style=\"color: #008000; text-decoration-color: #008000\">'HostId'</span>: <span style=\"color: #008000; text-decoration-color: #008000\">'VMV1vuKRcO2IuGQiM+We2SX4ZCscURqzLqkMh/BuD7zXMWE8v1VrVv3HA9f3SGZAKZJf8P/utAk='</span>,\n",
       "        <span style=\"color: #008000; text-decoration-color: #008000\">'HTTPStatusCode'</span>: <span style=\"color: #008080; text-decoration-color: #008080; font-weight: bold\">204</span>,\n",
       "        <span style=\"color: #008000; text-decoration-color: #008000\">'HTTPHeaders'</span>: <span style=\"font-weight: bold\">{</span>\n",
       "            <span style=\"color: #008000; text-decoration-color: #008000\">'x-amz-id-2'</span>: <span style=\"color: #008000; text-decoration-color: #008000\">'VMV1vuKRcO2IuGQiM+We2SX4ZCscURqzLqkMh/BuD7zXMWE8v1VrVv3HA9f3SGZAKZJf8P/utAk='</span>,\n",
       "            <span style=\"color: #008000; text-decoration-color: #008000\">'x-amz-request-id'</span>: <span style=\"color: #008000; text-decoration-color: #008000\">'DC3TXM9KEDP4JJP0'</span>,\n",
       "            <span style=\"color: #008000; text-decoration-color: #008000\">'date'</span>: <span style=\"color: #008000; text-decoration-color: #008000\">'Wed, 09 Jul 2025 22:58:49 GMT'</span>,\n",
       "            <span style=\"color: #008000; text-decoration-color: #008000\">'server'</span>: <span style=\"color: #008000; text-decoration-color: #008000\">'AmazonS3'</span>\n",
       "        <span style=\"font-weight: bold\">}</span>,\n",
       "        <span style=\"color: #008000; text-decoration-color: #008000\">'RetryAttempts'</span>: <span style=\"color: #008080; text-decoration-color: #008080; font-weight: bold\">0</span>\n",
       "    <span style=\"font-weight: bold\">}</span>\n",
       "<span style=\"font-weight: bold\">}</span>\n",
       "</pre>\n"
      ],
      "text/plain": [
       "\u001b[1m{\u001b[0m\n",
       "    \u001b[32m'ResponseMetadata'\u001b[0m: \u001b[1m{\u001b[0m\n",
       "        \u001b[32m'RequestId'\u001b[0m: \u001b[32m'DC3TXM9KEDP4JJP0'\u001b[0m,\n",
       "        \u001b[32m'HostId'\u001b[0m: \u001b[32m'VMV1vuKRcO2IuGQiM+We2SX4ZCscURqzLqkMh/BuD7zXMWE8v1VrVv3HA9f3SGZAKZJf8P/\u001b[0m\u001b[32mutAk\u001b[0m\u001b[32m='\u001b[0m,\n",
       "        \u001b[32m'HTTPStatusCode'\u001b[0m: \u001b[1;36m204\u001b[0m,\n",
       "        \u001b[32m'HTTPHeaders'\u001b[0m: \u001b[1m{\u001b[0m\n",
       "            \u001b[32m'x-amz-id-2'\u001b[0m: \u001b[32m'VMV1vuKRcO2IuGQiM+We2SX4ZCscURqzLqkMh/BuD7zXMWE8v1VrVv3HA9f3SGZAKZJf8P/\u001b[0m\u001b[32mutAk\u001b[0m\u001b[32m='\u001b[0m,\n",
       "            \u001b[32m'x-amz-request-id'\u001b[0m: \u001b[32m'DC3TXM9KEDP4JJP0'\u001b[0m,\n",
       "            \u001b[32m'date'\u001b[0m: \u001b[32m'Wed, 09 Jul 2025 22:58:49 GMT'\u001b[0m,\n",
       "            \u001b[32m'server'\u001b[0m: \u001b[32m'AmazonS3'\u001b[0m\n",
       "        \u001b[1m}\u001b[0m,\n",
       "        \u001b[32m'RetryAttempts'\u001b[0m: \u001b[1;36m0\u001b[0m\n",
       "    \u001b[1m}\u001b[0m\n",
       "\u001b[1m}\u001b[0m\n"
      ]
     },
     "metadata": {},
     "output_type": "display_data"
    }
   ],
   "source": [
    "non_existant_object_key = EXAMPLE_OBJECT_KEY + \"_non_existent\"\n",
    "\n",
    "# delete the non-existent object ...\n",
    "response = delete_object_from_s3(bucket_name=BUCKET_NAME, object_key=non_existant_object_key)\n",
    "\n",
    "print(response)"
   ]
  },
  {
   "cell_type": "markdown",
   "metadata": {},
   "source": [
    "### 9. Error handling when deleting an object"
   ]
  },
  {
   "cell_type": "code",
   "execution_count": 139,
   "metadata": {},
   "outputs": [],
   "source": [
    "HTTP_FILE_NOT_FOUND_ERROR_CODE = \"404\"\n",
    "\n",
    "\n",
    "class S3FileNotFoundError(Exception):\n",
    "    \"\"\"Raise this exception when an object at a given path is not found in S3.\"\"\"\n",
    "\n",
    "\n",
    "def delete_object_or_error_if_not_exists(bucket_name: str, object_key: str) -> None:\n",
    "    \"\"\"\n",
    "    Delete an object from an S3 bucket with error handling for non-existent objects.\n",
    "\n",
    "    :param bucket_name: Name of the bucket to delete the object from\n",
    "    :param object_key: Key of the object to delete\n",
    "\n",
    "    :raises S3FileNotFoundError: if no object exists at the given path\n",
    "    :raises ClientError: if an unexpected error occurs when using S3 that is not due to file not found\n",
    "    \"\"\"\n",
    "    try:\n",
    "        # check if the object exists\n",
    "        S3_CLIENT.head_object(Bucket=bucket_name, Key=object_key)\n",
    "\n",
    "        # If object exists, delete it\n",
    "        S3_CLIENT.delete_object(Bucket=bucket_name, Key=object_key)\n",
    "\n",
    "    except ClientError as err:\n",
    "        # if 404 error is raised, object does not exist\n",
    "        if err.response[\"Error\"][\"Code\"] == HTTP_FILE_NOT_FOUND_ERROR_CODE:\n",
    "            raise S3FileNotFoundError(f\"Object {object_key} not found in bucket {bucket_name}\")\n",
    "        else:\n",
    "            raise err"
   ]
  },
  {
   "cell_type": "code",
   "execution_count": 140,
   "metadata": {},
   "outputs": [
    {
     "data": {
      "text/html": [
       "<pre style=\"white-space:pre;overflow-x:auto;line-height:normal;font-family:Menlo,'DejaVu Sans Mono',consolas,'Courier New',monospace\">Object folder/file.txt not found in bucket cloud-course-bucket-b801\n",
       "</pre>\n"
      ],
      "text/plain": [
       "Object folder/file.txt not found in bucket cloud-course-bucket-b801\n"
      ]
     },
     "metadata": {},
     "output_type": "display_data"
    }
   ],
   "source": [
    "# Try to delete the non-existent example object with error handling\n",
    "try:\n",
    "    delete_object_or_error_if_not_exists(BUCKET_NAME, EXAMPLE_OBJECT_KEY)\n",
    "except S3FileNotFoundError as err:\n",
    "    print(err)"
   ]
  },
  {
   "cell_type": "code",
   "execution_count": 141,
   "metadata": {},
   "outputs": [
    {
     "data": {
      "text/html": [
       "<pre style=\"white-space:pre;overflow-x:auto;line-height:normal;font-family:Menlo,'DejaVu Sans Mono',consolas,'Courier New',monospace\">Objects in bucket:\n",
       "</pre>\n"
      ],
      "text/plain": [
       "Objects in bucket:\n"
      ]
     },
     "metadata": {},
     "output_type": "display_data"
    },
    {
     "data": {
      "text/html": [
       "<pre style=\"white-space:pre;overflow-x:auto;line-height:normal;font-family:Menlo,'DejaVu Sans Mono',consolas,'Courier New',monospace\"> - example-a/object/file1.txt\n",
       "</pre>\n"
      ],
      "text/plain": [
       " - example-a/object/file1.txt\n"
      ]
     },
     "metadata": {},
     "output_type": "display_data"
    },
    {
     "data": {
      "text/html": [
       "<pre style=\"white-space:pre;overflow-x:auto;line-height:normal;font-family:Menlo,'DejaVu Sans Mono',consolas,'Courier New',monospace\"> - example-b/object/file2.txt\n",
       "</pre>\n"
      ],
      "text/plain": [
       " - example-b/object/file2.txt\n"
      ]
     },
     "metadata": {},
     "output_type": "display_data"
    },
    {
     "data": {
      "text/html": [
       "<pre style=\"white-space:pre;overflow-x:auto;line-height:normal;font-family:Menlo,'DejaVu Sans Mono',consolas,'Courier New',monospace\"> - example-c/object/file3.txt\n",
       "</pre>\n"
      ],
      "text/plain": [
       " - example-c/object/file3.txt\n"
      ]
     },
     "metadata": {},
     "output_type": "display_data"
    },
    {
     "data": {
      "text/html": [
       "<pre style=\"white-space:pre;overflow-x:auto;line-height:normal;font-family:Menlo,'DejaVu Sans Mono',consolas,'Courier New',monospace\"> - example-d/object/file4.txt\n",
       "</pre>\n"
      ],
      "text/plain": [
       " - example-d/object/file4.txt\n"
      ]
     },
     "metadata": {},
     "output_type": "display_data"
    },
    {
     "data": {
      "text/html": [
       "<pre style=\"white-space:pre;overflow-x:auto;line-height:normal;font-family:Menlo,'DejaVu Sans Mono',consolas,'Courier New',monospace\"> - example-e/object/file5.txt\n",
       "</pre>\n"
      ],
      "text/plain": [
       " - example-e/object/file5.txt\n"
      ]
     },
     "metadata": {},
     "output_type": "display_data"
    }
   ],
   "source": [
    "# List all objects in the bucket to confirm that the example object was deleted\n",
    "objects = list_all_object_keys_in_bucket(BUCKET_NAME)\n",
    "if objects:\n",
    "    print(\"Objects in bucket:\")\n",
    "    for obj in objects:\n",
    "        print(f\" - {obj}\")\n",
    "else:\n",
    "    print(\"Bucket is empty.\")"
   ]
  },
  {
   "cell_type": "markdown",
   "metadata": {},
   "source": [
    "### 10. List all objects by prefix"
   ]
  },
  {
   "cell_type": "code",
   "execution_count": 142,
   "metadata": {},
   "outputs": [],
   "source": [
    "def list_all_objects_in_bucket_by_prefix(bucket_name: str, prefix: str) -> list[str]:\n",
    "    \"\"\"\n",
    "    List objects in an S3 bucket by prefix.\n",
    "\n",
    "    :param bucket_name: Name of the bucket to list objects from\n",
    "    :param prefix: Prefix to filter objects by\n",
    "    :return: List of object keys\n",
    "    \"\"\"\n",
    "\n",
    "    try:\n",
    "        objects = []\n",
    "        continuation_token = None\n",
    "        while True:\n",
    "            # If a continuation token exists, use it to fetch the next page of results for the given prefix\n",
    "            if continuation_token:\n",
    "                response = S3_CLIENT.list_objects_v2(Bucket=bucket_name, ContinuationToken=continuation_token, Prefix=prefix)\n",
    "            else:\n",
    "                # If this is the first page, fetch objects with the given prefix\n",
    "                response: ListObjectsV2OutputTypeDef = S3_CLIENT.list_objects_v2(Bucket=bucket_name, Prefix=prefix)\n",
    "            \n",
    "            # For the current page, extract all object keys that match the prefix\n",
    "            objects.extend([obj[\"Key\"] for obj in response.get(\"Contents\", []) if \"Key\" in obj])\n",
    "            # Get the next continuation token (if more objects with the prefix remain)\n",
    "            continuation_token = response.get(\"NextContinuationToken\")\n",
    "            # If there is no continuation token, we have listed all objects with the prefix\n",
    "            if not continuation_token:\n",
    "                break\n",
    "        return objects\n",
    "    except ClientError as e:\n",
    "        error_code = e.response.get(\"Error\", {}).get(\"Code\")\n",
    "        raise Exception(f\"❌ Error listing objects in bucket: {error_code}\")\n",
    "\n",
    "\n"
   ]
  },
  {
   "cell_type": "code",
   "execution_count": 143,
   "metadata": {},
   "outputs": [
    {
     "data": {
      "text/html": [
       "<pre style=\"white-space:pre;overflow-x:auto;line-height:normal;font-family:Menlo,'DejaVu Sans Mono',consolas,'Courier New',monospace\">Objects with prefix <span style=\"color: #008000; text-decoration-color: #008000\">'example-a/'</span>:\n",
       "</pre>\n"
      ],
      "text/plain": [
       "Objects with prefix \u001b[32m'example-a/'\u001b[0m:\n"
      ]
     },
     "metadata": {},
     "output_type": "display_data"
    },
    {
     "data": {
      "text/html": [
       "<pre style=\"white-space:pre;overflow-x:auto;line-height:normal;font-family:Menlo,'DejaVu Sans Mono',consolas,'Courier New',monospace\"> - example-a/object/file1.txt\n",
       "</pre>\n"
      ],
      "text/plain": [
       " - example-a/object/file1.txt\n"
      ]
     },
     "metadata": {},
     "output_type": "display_data"
    }
   ],
   "source": [
    "# List objects by prefix\n",
    "prefix = \"example-a/\"\n",
    "objects_by_prefix = list_all_objects_in_bucket_by_prefix(BUCKET_NAME, prefix)\n",
    "if objects_by_prefix:\n",
    "    print(f\"Objects with prefix '{prefix}':\")\n",
    "    for obj in objects_by_prefix:\n",
    "        print(f\" - {obj}\")\n",
    "else:\n",
    "    print(f\"No objects found with prefix '{prefix}'.\")"
   ]
  },
  {
   "cell_type": "markdown",
   "metadata": {},
   "source": [
    "### 11. Delete a bucket"
   ]
  },
  {
   "cell_type": "code",
   "execution_count": 144,
   "metadata": {},
   "outputs": [],
   "source": [
    "import boto3\n",
    "from botocore.exceptions import ClientError\n",
    "\n",
    "try:\n",
    "    from mypy_boto3_s3.type_defs import EmptyResponseMetadataTypeDef\n",
    "except ImportError:\n",
    "    print(\"boto3-stubs[s3] not installed\")\n",
    "\n",
    "def delete_all_objects_in_bucket(bucket_name: str) -> None:\n",
    "    \"\"\"\n",
    "    Delete all objects in an S3 bucket.\n",
    "    \"\"\"\n",
    "    try:\n",
    "        # list all objects in the bucket\n",
    "        objects = list_all_object_keys_in_bucket(bucket_name)\n",
    "    except ClientError as err:  \n",
    "        if \"NoSuchBucket\" in str(err):\n",
    "            return\n",
    "        raise\n",
    "\n",
    "    # delete each object\n",
    "    for obj in objects:\n",
    "        S3_CLIENT.delete_object(Bucket=bucket_name, Key=obj)\n",
    "\n",
    "\n",
    "def delete_bucket(bucket_name: str) -> Optional[\"EmptyResponseMetadataTypeDef\"]:\n",
    "    \"\"\"\n",
    "    Delete an S3 bucket, including all its objects.\n",
    "\n",
    "    If the bucket does not exist, no error is raised.\n",
    "\n",
    "    :param bucket_name: Name of the bucket to delete\n",
    "    :return: Response from the delete_bucket call or None if there is no bucket.\n",
    "    \"\"\"\n",
    "    # first we delete all objects in the bucket\n",
    "    delete_all_objects_in_bucket(bucket_name)\n",
    "\n",
    "    # then we delete the bucket\n",
    "    try:\n",
    "        response: EmptyResponseMetadataTypeDef = S3_CLIENT.delete_bucket(Bucket=bucket_name)\n",
    "        return response\n",
    "    except ClientError as err:\n",
    "        if \"NoSuchBucket\" in str(err):\n",
    "            return None\n",
    "        raise"
   ]
  },
  {
   "cell_type": "code",
   "execution_count": null,
   "metadata": {},
   "outputs": [],
   "source": [
    "# delete bucket\n",
    "response = delete_bucket(BUCKET_NAME)\n",
    "print(response)"
   ]
  },
  {
   "cell_type": "markdown",
   "metadata": {},
   "source": [
    "### 12. Recursively upload a local directory to S3"
   ]
  },
  {
   "cell_type": "code",
   "execution_count": 146,
   "metadata": {},
   "outputs": [],
   "source": [
    "from pathlib import Path\n",
    "from typing import Generator\n",
    "\n",
    "\n",
    "def recursively_upload_dir_to_bucket(\n",
    "    local_dir_fpath: str | Path,\n",
    "    bucket_name: str,\n",
    "    target_root_prefix_in_bucket: str = \"\",\n",
    "):\n",
    "    \"\"\"\n",
    "    Recurse through a local directory and upload all files to S3 under a target prefix.\n",
    "\n",
    "    The object keys within the bucket should be the relative paths of the files within the local directory.\n",
    "\n",
    "    Example:\n",
    "\n",
    "    path/to/local_dir/\n",
    "    ├── file1.txt\n",
    "    ├── file2.txt\n",
    "    └── subdir\n",
    "        └── file3.txt\n",
    "\n",
    "    Would be uploaded to\n",
    "\n",
    "    s3://bucket-name/target_root_prefix_in_bucket/\n",
    "    ├── file1.txt\n",
    "    ├── file2.txt\n",
    "    └── subdir/\n",
    "        └── file3.txt\n",
    "    \"\"\"\n",
    "    local_dir_fpath = Path(local_dir_fpath)\n",
    "    child_fpaths: Generator[Path, None, None] = local_dir_fpath.rglob(\"*\")\n",
    "    target_root_prefix_in_bucket = target_root_prefix_in_bucket.rstrip(\"/\")\n",
    "\n",
    "    for child_fpath in child_fpaths:\n",
    "        if child_fpath.is_file():\n",
    "            relative_fpath = child_fpath.relative_to(local_dir_fpath)\n",
    "            object_key = str(Path(target_root_prefix_in_bucket) / relative_fpath)\n",
    "            upload_file_to_bucket(child_fpath, bucket_name, object_key)\n",
    "\n",
    "\n",
    "def upload_file_to_bucket(\n",
    "    local_fpath: str | Path,\n",
    "    bucket_name: str,\n",
    "    target_key_in_bucket: str,\n",
    "):\n",
    "    \"\"\"\n",
    "    Upload a file to an S3 bucket.\n",
    "\n",
    "    :param local_fpath: Local file path to upload\n",
    "    :param bucket_name: Name of the bucket to upload the file to\n",
    "    :param target_key_in_bucket: Key to upload the file to in the bucket\n",
    "    \"\"\"\n",
    "    local_fpath = Path(local_fpath)\n",
    "    with open(local_fpath, \"rb\") as file:\n",
    "        S3_CLIENT.put_object(Bucket=bucket_name, Key=target_key_in_bucket, Body=file)"
   ]
  },
  {
   "cell_type": "code",
   "execution_count": 147,
   "metadata": {},
   "outputs": [
    {
     "data": {
      "text/html": [
       "<pre style=\"white-space:pre;overflow-x:auto;line-height:normal;font-family:Menlo,'DejaVu Sans Mono',consolas,'Courier New',monospace\"><span style=\"font-weight: bold\">[</span><span style=\"color: #008000; text-decoration-color: #008000\">'test-root-dir/file1.txt'</span>, <span style=\"color: #008000; text-decoration-color: #008000\">'test-root-dir/file2.txt'</span>, <span style=\"color: #008000; text-decoration-color: #008000\">'test-root-dir/subdir/file3.txt'</span><span style=\"font-weight: bold\">]</span>\n",
       "</pre>\n"
      ],
      "text/plain": [
       "\u001b[1m[\u001b[0m\u001b[32m'test-root-dir/file1.txt'\u001b[0m, \u001b[32m'test-root-dir/file2.txt'\u001b[0m, \u001b[32m'test-root-dir/subdir/file3.txt'\u001b[0m\u001b[1m]\u001b[0m\n"
      ]
     },
     "metadata": {},
     "output_type": "display_data"
    }
   ],
   "source": [
    "# upload a directory to s3\n",
    "# create a test dir locally with sample files\n",
    "test_dir = Path(\"test_dir\")\n",
    "test_dir.mkdir(parents=True, exist_ok=True)\n",
    "(test_dir / \"file1.txt\").write_text(\"This is file 1.\")\n",
    "(test_dir / \"file2.txt\").write_text(\"This is file 2.\")\n",
    "(test_dir / \"subdir\").mkdir(parents=True, exist_ok=True)\n",
    "(test_dir / \"subdir\" / \"file3.txt\").write_text(\"This is file 3.\")\n",
    "\n",
    "# clean up the bucket\n",
    "delete_bucket(BUCKET_NAME)\n",
    "create_bucket(bucket_name=BUCKET_NAME)\n",
    "\n",
    "recursively_upload_dir_to_bucket(\n",
    "    bucket_name=BUCKET_NAME,\n",
    "    local_dir_fpath=test_dir,\n",
    "    target_root_prefix_in_bucket=\"test-root-dir/\",\n",
    ")\n",
    "\n",
    "# List all objects in the bucket at the test target root\n",
    "objects = list_all_objects_in_bucket_by_prefix(\n",
    "    bucket_name=BUCKET_NAME,\n",
    "    prefix=\"test-root-dir/\",\n",
    ")\n",
    "print(objects)"
   ]
  },
  {
   "cell_type": "markdown",
   "metadata": {},
   "source": [
    "### 13. Rename a \"folder\" in an S3 bucket"
   ]
  },
  {
   "cell_type": "code",
   "execution_count": 149,
   "metadata": {},
   "outputs": [],
   "source": [
    "def rename_folder_in_bucket(\n",
    "    bucket_name: str,\n",
    "    old_folder_prefix: str,\n",
    "    new_folder_prefix: str,\n",
    "):\n",
    "    \"\"\"\n",
    "    Rename a \"folder\" in an S3 bucket.\n",
    "\n",
    "    Example:\n",
    "\n",
    "    Given the following structure in S3:\n",
    "\n",
    "    s3://bucket-name/<old_folder_prefix>/\n",
    "    ├── file1.txt\n",
    "    ├── file2.txt\n",
    "    └── subdir/\n",
    "        └── file3.txt\n",
    "\n",
    "    After renaming\n",
    "\n",
    "    s3://bucket-name/<new_folder_prefix>/\n",
    "    ├── file1.txt\n",
    "    ├── file2.txt\n",
    "    └── subdir/\n",
    "        └── file3.txt\n",
    "\n",
    "    :param bucket_name: Name of the S3 bucket\n",
    "    :param source_folder: Source \"folder\" path in the bucket\n",
    "    :param destination_folder: Destination \"folder\" path in the bucket\n",
    "    \"\"\"\n",
    "    old_folder_prefix = old_folder_prefix.rstrip(\"/\") + \"/\"\n",
    "    new_folder_prefix = new_folder_prefix.rstrip(\"/\") + \"/\"\n",
    "\n",
    "    # List all objects in the source folder\n",
    "    objects = list_all_objects_in_bucket_by_prefix(bucket_name=bucket_name, prefix=old_folder_prefix)\n",
    "\n",
    "    for current_key in objects:\n",
    "        new_key = current_key.replace(old_folder_prefix, new_folder_prefix, 1)\n",
    "\n",
    "        # Move the object to the new key\n",
    "        move_object_in_bucket(bucket_name=bucket_name, source_key=current_key, destination_key=new_key)\n",
    "\n",
    "\n",
    "def move_object_in_bucket(bucket_name: str, source_key: str, destination_key: str):\n",
    "    \"\"\"\n",
    "    Move an object within an S3 bucket by copying to the new key and deleting the old key.\n",
    "\n",
    "    :param bucket_name: Name of the S3 bucket\n",
    "    :param source_key: Source key of the object to move\n",
    "    :param destination_key: Destination key of the object\n",
    "    \"\"\"\n",
    "     # Copy the object to the new key\n",
    "    S3_CLIENT.copy_object(\n",
    "        Bucket=bucket_name, CopySource={\"Bucket\": bucket_name, \"Key\": source_key}, Key=destination_key\n",
    "    )\n",
    "\n",
    "    # Delete the old object\n",
    "    S3_CLIENT.delete_object(Bucket=bucket_name, Key=source_key)\n",
    "\n",
    "\n",
    "\"\"\"Test the rename_folder_in_bucket function.\"\"\"\n",
    "\n",
    "\n",
    "def upload_file_to_bucket(\n",
    "    local_fpath: str | Path,\n",
    "    bucket_name: str,\n",
    "    target_key_in_bucket: str,\n",
    "):\n",
    "    \"\"\"\n",
    "    Upload a file to an S3 bucket.\n",
    "\n",
    "    :param local_fpath: Local file path to upload\n",
    "    :param bucket_name: Name of the bucket to upload the file to\n",
    "    :param target_key_in_bucket: Key to upload the file to in the bucket\n",
    "    \"\"\"\n",
    "    local_fpath = Path(local_fpath)\n",
    "    with open(local_fpath, \"rb\") as file:\n",
    "        S3_CLIENT.put_object(Bucket=bucket_name, Key=target_key_in_bucket, Body=file)"
   ]
  },
  {
   "cell_type": "code",
   "execution_count": 150,
   "metadata": {},
   "outputs": [
    {
     "data": {
      "text/html": [
       "<pre style=\"white-space:pre;overflow-x:auto;line-height:normal;font-family:Menlo,'DejaVu Sans Mono',consolas,'Courier New',monospace\"><span style=\"font-weight: bold\">[</span>\n",
       "    <span style=\"color: #008000; text-decoration-color: #008000\">'nested/destination-folder/file1.txt'</span>,\n",
       "    <span style=\"color: #008000; text-decoration-color: #008000\">'nested/destination-folder/file2.txt'</span>,\n",
       "    <span style=\"color: #008000; text-decoration-color: #008000\">'nested/destination-folder/subdir/file3.txt'</span>\n",
       "<span style=\"font-weight: bold\">]</span>\n",
       "</pre>\n"
      ],
      "text/plain": [
       "\u001b[1m[\u001b[0m\n",
       "    \u001b[32m'nested/destination-folder/file1.txt'\u001b[0m,\n",
       "    \u001b[32m'nested/destination-folder/file2.txt'\u001b[0m,\n",
       "    \u001b[32m'nested/destination-folder/subdir/file3.txt'\u001b[0m\n",
       "\u001b[1m]\u001b[0m\n"
      ]
     },
     "metadata": {},
     "output_type": "display_data"
    }
   ],
   "source": [
    "# rename folder in bucket\n",
    "\n",
    "# Create test objects in the source folder\n",
    "test_source_folder = \"nested/source-folder/\"\n",
    "test_dest_folder = \"nested/destination-folder/\"\n",
    "\n",
    "create_bucket(bucket_name=BUCKET_NAME)\n",
    "\n",
    "# Upload test files to source folder\n",
    "upload_file_to_bucket(\n",
    "    local_fpath=\"test_dir/file1.txt\", bucket_name=BUCKET_NAME, target_key_in_bucket=test_source_folder + \"file1.txt\"\n",
    ")\n",
    "upload_file_to_bucket(\n",
    "    local_fpath=\"test_dir/file2.txt\", bucket_name=BUCKET_NAME, target_key_in_bucket=test_source_folder + \"file2.txt\"\n",
    ")\n",
    "upload_file_to_bucket(\n",
    "    local_fpath=\"test_dir/subdir/file3.txt\",\n",
    "    bucket_name=BUCKET_NAME,\n",
    "    target_key_in_bucket=test_source_folder + \"subdir/file3.txt\",\n",
    ")\n",
    "\n",
    "# Rename the source folder to the destination folder\n",
    "rename_folder_in_bucket(\n",
    "    bucket_name=BUCKET_NAME,\n",
    "    old_folder_prefix=test_source_folder,\n",
    "    new_folder_prefix=test_dest_folder,\n",
    ")\n",
    "\n",
    "# List all objects in the destination folder\n",
    "objects = list_all_objects_in_bucket_by_prefix(bucket_name=BUCKET_NAME, prefix=test_dest_folder)\n",
    "print(objects)"
   ]
  },
  {
   "cell_type": "code",
   "execution_count": null,
   "metadata": {},
   "outputs": [],
   "source": []
  }
 ],
 "metadata": {
  "kernelspec": {
   "display_name": "venv",
   "language": "python",
   "name": "python3"
  },
  "language_info": {
   "codemirror_mode": {
    "name": "ipython",
    "version": 3
   },
   "file_extension": ".py",
   "mimetype": "text/x-python",
   "name": "python",
   "nbconvert_exporter": "python",
   "pygments_lexer": "ipython3",
   "version": "3.12.9"
  }
 },
 "nbformat": 4,
 "nbformat_minor": 2
}
